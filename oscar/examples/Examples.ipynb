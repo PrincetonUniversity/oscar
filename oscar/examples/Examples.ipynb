{
 "cells": [
  {
   "cell_type": "markdown",
   "metadata": {},
   "source": [
    "Examples of using a wrapped version of OSCAR\n",
    "--------------------------------------------------"
   ]
  },
  {
   "cell_type": "code",
   "execution_count": 33,
   "metadata": {
    "collapsed": false
   },
   "outputs": [],
   "source": [
    "import matplotlib.pyplot as plt\n",
    "import numpy as np\n",
    "\n",
    "from prototype import OSCAR  # prototype.py is a module (meaning we can import from it) which contains the class OSCAR\n",
    "                             # The OSCAR class is used to configure and run the model\n",
    "%matplotlib inline"
   ]
  },
  {
   "cell_type": "markdown",
   "metadata": {},
   "source": [
    "To create a new model instance with all default settings, one can use the OSCAR constructor with no arguments:\n",
    "```\n",
    "simulation = OSCAR()\n",
    "```\n",
    "Then to run the simulation, one needs to call its `run` function, specifying the year to which one would like the simulation run (the simulation always starts in 1700):\n",
    "```\n",
    "results = simulation.run(2100)\n",
    "```\n",
    "\n",
    "If one would like to run OSCAR with different settings, say if one wanted to use the RCP8.5 emissions scenario for all emissions species, one could configure those settings in creating a new OSCAR object:\n",
    "```\n",
    "simulation_RCP85 = OSCAR(scen_ALL='RCP8.5')\n",
    "results_RCP85 = simulation_RCP85.run(2100)\n",
    "```\n",
    "\n",
    "One can set any number of options listed below in the OSCAR constructor; all unspecified options will take on their default values (listed in the descriptions of the arguments below).\n",
    "\n",
    "```\n",
    "Parameters\n",
    "----------\n",
    "fT : int\n",
    "    Flag to turn climate feedbacks on (1) or off (0).  Default is 1.\n",
    "mod_regionI : str\n",
    "    Regional aggregation setting.  Options are 'SRES4', 'SRES11',\n",
    "    'RECCAP*', 'Raupach*', 'Houghton', 'IMACLIM', 'Kyoto', 'RCP5',\n",
    "    'RCP10*'.  Default is 'Houghton'.\n",
    "mod_biomeSHR : str\n",
    "    Shrubland biome classification.  Options are 'SHR', 'w/GRA' or\n",
    "    'w/FOR'. Default is 'w/GRA'.\n",
    "mod_biomeURB : str\n",
    "    Urban biome classification.  Options are 'URB' or 'w/DES'.  Default\n",
    "    is 'w/DES'.\n",
    "data_EFF : str\n",
    "    Dataset for fossil fuel emissions.  Options are 'CDIAC' or 'EDGAR'.\n",
    "    Default is 'CDIAC'.\n",
    "data_LULCC : str\n",
    "    Dataset for land-use and land-cover change drivers.  Only option is\n",
    "    'LUH1'\n",
    "data_ECH4 : str\n",
    "    Dataset for methane emissions.  Options are 'EDGAR', 'ACCMIP', or \n",
    "    'EPA'.  Default is 'EDGAR'.\n",
    "data_EN2O : str\n",
    "    Dataset for nitrous oxide emissions.  Options are 'EDGAR' or 'EPA'.\n",
    "    Default is 'EDGAR'.\n",
    "data_Ehalo : str\n",
    "    Dataset for halogenated compound emissions.  Only option is\n",
    "    'EDGAR'.\n",
    "data_ENOX : str\n",
    "    Dataset for nitrogen oxide emissions.  Options are 'EDGAR' or\n",
    "    'ACCMIP'.  Default is 'EDGAR'.\n",
    "data_ECO : str\n",
    "    Dataset for carbon monoxide emissions.  Options are 'EDGAR' or\n",
    "    'ACCMIP'.  Default is 'EDGAR'.\n",
    "data_EVOC : str\n",
    "    Dataset for volotile organic compound emissions.  Options are \n",
    "    'EDGAR' or 'ACCMIP'.  Default is 'EDGAR'.\n",
    "data_ESO2 : str\n",
    "    Dataset for sulfur dioxide emissions.  Options are 'EDGAR' or \n",
    "    'ACCMIP'.  Default is 'EDGAR'.\n",
    "data_ENH3 : str\n",
    "    Dataset for ammonia emissions.  Options are 'EDGAR' or 'ACCMIP'.\n",
    "    Default is 'EDGAR'.\n",
    "data_EOC : str\n",
    "    Dataset for organic carbon emissions.  Only option is 'ACCMIP'.\n",
    "data_EBC : str\n",
    "    Dataset for black carbon emissions.  Only option is 'ACCMIP'.\n",
    "data_RFant : str\n",
    "    Dataset for other anthropogenic radiative forcings.  Options are\n",
    "    '', or 'IPCC-AR5'.  Default is 'IPCC-AR5'.\n",
    "data_RFnat : str\n",
    "    Dataset for natural radiative forcings.  Options are '', or\n",
    "    'IPCC-AR5'.  Default is 'IPCC-AR5'.\n",
    "mod_DATAscen : str\n",
    "    How the transition between historical emissions and scenarios is\n",
    "    defined.  Options are 'raw', 'offset', 'smoothX' (X in years), or \n",
    "    'trends'.  Default is 'trends'.\n",
    "scen_ALL : None or str\n",
    "    Option to set the scenario for all emissions.  Options are None,\n",
    "    'stop', 'cst', 'RCP8.5', 'RCP6.0', 'RCP4.5', 'RCP2.6'.  If None,\n",
    "    options must be set on an emissions species by emissions species\n",
    "    basis.  Default is None.\n",
    "scen_EFF : str\n",
    "    Scenario for fossil fuel emissions.  Options are 'stop', 'cst', \n",
    "    'SRES-A1B', 'SRES-A1FI', 'SRES-A1T', 'SRES-A2', 'SRES-B1',\n",
    "    'SRES-B2', 'RCP8.5', 'RCP6.0', 'RCP4.5', or 'RCP2.6'.  Default\n",
    "    is 'stop'.\n",
    "scen_LULCC : str\n",
    "    Scenario for land-use and land-cover change.  Options are 'stop',\n",
    "    'cst', 'RCP8.5', 'RCP6.0', 'RCP4.5', or 'RCP2.6'.  Default is\n",
    "    'stop'.\n",
    "scen_ECH4 : str\n",
    "    Scenario for methane emissions.  Options are 'stop', 'cst', \n",
    "    'SRES-A1B', 'SRES-A1FI', 'SRES-A1T', 'SRES-A2', 'SRES-B1',\n",
    "    'SRES-B2', 'RCP8.5', 'RCP6.0', 'RCP4.5', or 'RCP2.6'.  Default\n",
    "    is 'stop'.\n",
    "scen_N2O : str\n",
    "    Scenario for nitrious oxide emissions.  Options are 'stop', 'cst',\n",
    "    'SRES-A1B', 'SRES-A1FI', 'SRES-A1T', 'SRES-A2', 'SRES-B1',\n",
    "    'SRES-B2', 'RCP8.5', 'RCP6.0', 'RCP4.5', or 'RCP2.6'.  Default\n",
    "    is 'stop'.\n",
    "scen_Ehalo : str\n",
    "    Scenario for halogenated compound emissions.  Options are 'stop',\n",
    "    'cst', 'RCP8.5', 'RCP6.0', 'RCP4.5', or 'RCP2.6'.  Default is\n",
    "    'stop'.\n",
    "scen_ENOX : str\n",
    "    Scenario for nitrogen oxide emissions.  Options are 'stop', 'cst',\n",
    "    'SRES-A1B', 'SRES-A1FI', 'SRES-A1T', 'SRES-A2', 'SRES-B1',\n",
    "    'SRES-B2', 'RCP8.5', 'RCP6.0', 'RCP4.5', or 'RCP2.6'.  Default\n",
    "    is 'stop'.\n",
    "scen_ECO : str\n",
    "    Scenario for carbon monoxide emissions.  Options are 'stop', 'cst',\n",
    "    'SRES-A1B', 'SRES-A1FI', 'SRES-A1T', 'SRES-A2', 'SRES-B1',\n",
    "    'SRES-B2', 'RCP8.5', 'RCP6.0', 'RCP4.5', or 'RCP2.6'.  Default\n",
    "    is 'stop'.\n",
    "scen_EVOC : str\n",
    "    Scenario for volatile organic compounds.  Options are 'stop', 'cst',\n",
    "    'SRES-A1B', 'SRES-A1FI', 'SRES-A1T', 'SRES-A2', 'SRES-B1',\n",
    "    'SRES-B2', 'RCP8.5', 'RCP6.0', 'RCP4.5', or 'RCP2.6'.  Default\n",
    "    is 'stop'.\n",
    "scen_ESO2 : str\n",
    "    Scenario for sulfur dioxide emissions.  Options are 'stop', 'cst',\n",
    "    'SRES-A1B', 'SRES-A1FI', 'SRES-A1T', 'SRES-A2', 'SRES-B1',\n",
    "    'SRES-B2', 'RCP8.5', 'RCP6.0', 'RCP4.5', or 'RCP2.6'.  Default\n",
    "    is 'stop'.\n",
    "scen_ENH3 : str\n",
    "    Scenario for ammonia emissions.  Options are 'stop',\n",
    "    'cst', 'RCP8.5', 'RCP6.0', 'RCP4.5', or 'RCP2.6'.  Default is\n",
    "    'stop'.\n",
    "scen_EOC : str\n",
    "    Scenario for organic carbon aerosol emissions.  Options are 'stop',\n",
    "    'cst', 'RCP8.5', 'RCP6.0', 'RCP4.5', or 'RCP2.6'.  Default is\n",
    "    'stop'.\n",
    "scen_EBC : str\n",
    "    Scenario for black carbon aerosol emissions.  Options are 'stop',\n",
    "    'cst', 'RCP8.5', 'RCP6.0', 'RCP4.5', or 'RCP2.6'.  Default is\n",
    "    'stop'.\n",
    "scen_RFant : str\n",
    "    Scenario for other anthropogenic radiative forcing.  Options are\n",
    "    'stop' and 'cst'.  Default is 'stop'.\n",
    "scen_RFnat : str\n",
    "    Scenario for natural radiative forcing.  Options are 'stop' and\n",
    "    'cst'.  Default is 'stop'.\n",
    "```"
   ]
  },
  {
   "cell_type": "markdown",
   "metadata": {},
   "source": [
    "Example 1: Running OSCAR for the Different RCP Scenarios\n",
    "--------------------------------------------------------"
   ]
  },
  {
   "cell_type": "code",
   "execution_count": 18,
   "metadata": {
    "collapsed": true
   },
   "outputs": [],
   "source": [
    "SCENARIOS = ['RCP2.6', 'RCP4.5', 'RCP6.0', 'RCP8.5']"
   ]
  },
  {
   "cell_type": "code",
   "execution_count": 19,
   "metadata": {
    "collapsed": false
   },
   "outputs": [
    {
     "name": "stdout",
     "output_type": "stream",
     "text": [
      "LOADING: DRIVERS\n",
      "LOADING: PARAMETERS\n",
      "FORMATING\n",
      "LOADING: DRIVERS\n",
      "LOADING: PARAMETERS\n",
      "FORMATING\n",
      "LOADING: DRIVERS\n",
      "LOADING: PARAMETERS\n",
      "FORMATING\n",
      "LOADING: DRIVERS\n",
      "LOADING: PARAMETERS\n",
      "FORMATING\n"
     ]
    }
   ],
   "source": [
    "results = {scen: OSCAR(scen_ALL=scen).run(2100) for scen in SCENARIOS}"
   ]
  },
  {
   "cell_type": "code",
   "execution_count": 20,
   "metadata": {
    "collapsed": false
   },
   "outputs": [
    {
     "data": {
      "text/plain": [
       "<matplotlib.text.Text at 0x114c5fe10>"
      ]
     },
     "execution_count": 20,
     "metadata": {},
     "output_type": "execute_result"
    },
    {
     "data": {
      "image/png": "[encoded data removed]",
      "text/plain": [
       "<matplotlib.figure.Figure at 0x114d854d0>"
      ]
     },
     "metadata": {},
     "output_type": "display_data"
    }
   ],
   "source": [
    "ax = plt.axes()\n",
    "year = 1700 + np.arange(len(results['RCP2.6']['D_CO2']))\n",
    "for scenario in SCENARIOS:\n",
    "    ax.plot(year, results[scenario]['D_gst'], label=scenario)\n",
    "ax.legend(loc='upper left')\n",
    "ax.set_title('')\n",
    "ax.set_xlabel('Year')\n",
    "ax.set_ylabel('$\\mathregular{\\Delta}$T [K]')"
   ]
  },
  {
   "cell_type": "markdown",
   "metadata": {},
   "source": [
    "Example 2: Running OSCAR with different past settings\n",
    "-----------------------------------------------------"
   ]
  },
  {
   "cell_type": "code",
   "execution_count": 31,
   "metadata": {
    "collapsed": false
   },
   "outputs": [
    {
     "name": "stdout",
     "output_type": "stream",
     "text": [
      "LOADING: DRIVERS\n",
      "LOADING: PARAMETERS\n",
      "FORMATING\n",
      "LOADING: DRIVERS\n",
      "LOADING: PARAMETERS\n",
      "FORMATING\n",
      "LOADING: DRIVERS\n",
      "LOADING: PARAMETERS\n",
      "FORMATING\n"
     ]
    }
   ],
   "source": [
    "results = {'Default': OSCAR().run(2010),\n",
    "           'No natural RF': OSCAR(data_RFnat='').run(2010),\n",
    "           'No natural RF, EDGAR EFF': OSCAR(data_RFnat='', data_EFF='EDGAR').run(2010)}"
   ]
  },
  {
   "cell_type": "code",
   "execution_count": 32,
   "metadata": {
    "collapsed": false
   },
   "outputs": [
    {
     "data": {
      "text/plain": [
       "<matplotlib.text.Text at 0x111bdb850>"
      ]
     },
     "execution_count": 32,
     "metadata": {},
     "output_type": "execute_result"
    },
    {
     "data": {
      "image/png": "[encoded data removed]",
      "text/plain": [
       "<matplotlib.figure.Figure at 0x1122d8f90>"
      ]
     },
     "metadata": {},
     "output_type": "display_data"
    }
   ],
   "source": [
    "ax = plt.axes()\n",
    "year = 1700 + np.arange(len(results['Default']['D_CO2']))\n",
    "for result in results:\n",
    "    ax.plot(year, results[result]['D_gst'], label=result)\n",
    "ax.legend(loc='upper left')\n",
    "ax.set_title('')\n",
    "ax.set_xlabel('Year')\n",
    "ax.set_ylabel('$\\mathregular{\\Delta}$T [K]')"
   ]
  },
  {
   "cell_type": "code",
   "execution_count": null,
   "metadata": {
    "collapsed": true
   },
   "outputs": [],
   "source": []
  }
 ],
 "metadata": {
  "kernelspec": {
   "display_name": "Python 2",
   "language": "python",
   "name": "python2"
  },
  "language_info": {
   "codemirror_mode": {
    "name": "ipython",
    "version": 2
   },
   "file_extension": ".py",
   "mimetype": "text/x-python",
   "name": "python",
   "nbconvert_exporter": "python",
   "pygments_lexer": "ipython2",
   "version": "2.7.12"
  }
 },
 "nbformat": 4,
 "nbformat_minor": 0
}
