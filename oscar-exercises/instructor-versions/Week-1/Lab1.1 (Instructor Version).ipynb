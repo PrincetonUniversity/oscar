{
 "cells": [
  {
   "cell_type": "markdown",
   "metadata": {},
   "source": [
    "# Introduction to Python and the Jupyter Notebook Environment\n",
    "\n",
    "\n",
    "_You are looking at [Jupyter Notebook](http://jupyter-notebook.readthedocs.io/en/latest/notebook.html)_.  A Jupyter notebook (formerly known as an iPython notebook) is a lightweight environment for describing and running blocks of code in a [variety of languages](https://github.com/jupyter/jupyter/wiki/Jupyter-kernels).  Over the last few years, it has become a popular tool in the scientific community for its use in data analysis and exploration.  Throughout this course we'll be using notebooks to look at data both from observations and numerical models.\n",
    "\n",
    "\n"
   ]
  },
  {
   "cell_type": "markdown",
   "metadata": {
    "collapsed": true
   },
   "source": [
    "----------\n",
    "## 1. Cell types\n",
    "A key feature of Jupyter notebooks is that they support different cell types.  A \"cell\" in a Jupyter notebook is a field in which one can enter text.  To enter text in a cell, one simply needs to click inside it to make it active.  There are two types of cells:\n",
    "\n",
    "1. Markdown cells (like this cell itself)\n",
    "2. Code cells."
   ]
  },
  {
   "cell_type": "markdown",
   "metadata": {},
   "source": [
    "### Markdown cells\n",
    "Markdown cells are meant for displaying text.  Markdown is a way of indicating basic formatting aspects in plain text form.  [A full description of its syntax (with examples) can be found here.](https://daringfireball.net/projects/markdown/syntax) You can also double click on any Markdown cell in this notebook to see the text that produced it.  \n",
    "\n",
    "To create a Markdown cell it's easiest to select a cell and change it to a Markdown cell by selecting Cell -> Cell Type -> Markdown in the Jupyter notebook menu bar.  Things Markdown supports are multi-level headings, bulleted and numbered lists, links, images, and font styles (e.g. **bold** or *italic*).  Jupyter notebooks also include MathJax support, so you can type LaTeX-style equations.  E.g. \n",
    "$$y = mx + b$$\n",
    "In practice, it can often be helpful to use Markdown cells to provide background for the data analysis you are doing (e.g. to provide links to scientific papers, or describe the math behind a certain kind of analysis)."
   ]
  },
  {
   "cell_type": "markdown",
   "metadata": {},
   "source": [
    "### Code cells\n",
    "Code cells are what make the Jupyter notebook a powerful data analysis tool.  They enable one to write multi-line snippets of code, which can be executed one at a time, and in any order.  To run the active code cell (i.e. the one you are typing in) you hold down the Shift key and then type Enter.\n",
    "\n",
    "After running a cell, the variables created in the cell will now be accessible to all other cells in the notebook."
   ]
  },
  {
   "cell_type": "code",
   "execution_count": 1,
   "metadata": {},
   "outputs": [
    {
     "name": "stdout",
     "output_type": "stream",
     "text": [
      "Hello world!\n"
     ]
    }
   ],
   "source": [
    "print 'Hello world!'"
   ]
  },
  {
   "cell_type": "markdown",
   "metadata": {},
   "source": [
    "## 2. Python basics\n",
    "\n",
    "Python is a dynamically typed language; therefore it is very straightforward to assign data to a variable (there is no need to specify the data type)."
   ]
  },
  {
   "cell_type": "code",
   "execution_count": 2,
   "metadata": {
    "collapsed": true
   },
   "outputs": [],
   "source": [
    "a = 2\n",
    "b = 'b'"
   ]
  },
  {
   "cell_type": "markdown",
   "metadata": {},
   "source": [
    "Here we'll note that after executing the cell above, all other cells now have access to the variables \"a\" and \"b.\""
   ]
  },
  {
   "cell_type": "code",
   "execution_count": 3,
   "metadata": {},
   "outputs": [
    {
     "name": "stdout",
     "output_type": "stream",
     "text": [
      "4\n"
     ]
    }
   ],
   "source": [
    "c = a + 2\n",
    "print c"
   ]
  },
  {
   "cell_type": "markdown",
   "metadata": {},
   "source": [
    "### Data structures\n",
    "Some fundamental Python data structures that will be of use to us in this course are:\n",
    "\n",
    "- Lists\n",
    "- Dicts\n",
    "- `numpy` arrays"
   ]
  },
  {
   "cell_type": "markdown",
   "metadata": {},
   "source": [
    "#### Lists\n",
    "Lists store sequences of objects.  The objects need not be of the same type (but often they will be).  See the following two examples of lists below."
   ]
  },
  {
   "cell_type": "code",
   "execution_count": 4,
   "metadata": {
    "collapsed": true
   },
   "outputs": [],
   "source": [
    "list_a = ['a', 'b', 'c', 'd'] # list of strings\n",
    "list_b = ['a', 2, 'c', 4] # mixed list of strings and integer"
   ]
  },
  {
   "cell_type": "markdown",
   "metadata": {},
   "source": [
    "One can iterate over items in a list using a `for` loop:"
   ]
  },
  {
   "cell_type": "code",
   "execution_count": 5,
   "metadata": {},
   "outputs": [
    {
     "name": "stdout",
     "output_type": "stream",
     "text": [
      "a\n",
      "b\n",
      "c\n",
      "d\n"
     ]
    }
   ],
   "source": [
    "for item in list_a:\n",
    "    print item"
   ]
  },
  {
   "cell_type": "markdown",
   "metadata": {},
   "source": [
    "One can also access specific elements of a list using integer indexes (note that Python is \"zero-indexed\" meaning that the first element of the list is at index 0.)"
   ]
  },
  {
   "cell_type": "code",
   "execution_count": 6,
   "metadata": {},
   "outputs": [
    {
     "data": {
      "text/plain": [
       "'a'"
      ]
     },
     "execution_count": 6,
     "metadata": {},
     "output_type": "execute_result"
    }
   ],
   "source": [
    "list_a[0]"
   ]
  },
  {
   "cell_type": "code",
   "execution_count": 7,
   "metadata": {},
   "outputs": [
    {
     "data": {
      "text/plain": [
       "'b'"
      ]
     },
     "execution_count": 7,
     "metadata": {},
     "output_type": "execute_result"
    }
   ],
   "source": [
    "list_a[1]"
   ]
  },
  {
   "cell_type": "code",
   "execution_count": 8,
   "metadata": {},
   "outputs": [
    {
     "data": {
      "text/plain": [
       "'d'"
      ]
     },
     "execution_count": 8,
     "metadata": {},
     "output_type": "execute_result"
    }
   ],
   "source": [
    "list_a[3]"
   ]
  },
  {
   "cell_type": "code",
   "execution_count": 9,
   "metadata": {},
   "outputs": [
    {
     "data": {
      "text/plain": [
       "'c'"
      ]
     },
     "execution_count": 9,
     "metadata": {},
     "output_type": "execute_result"
    }
   ],
   "source": [
    "list_a[-2]"
   ]
  },
  {
   "cell_type": "code",
   "execution_count": 10,
   "metadata": {},
   "outputs": [
    {
     "data": {
      "text/plain": [
       "['b', 'c']"
      ]
     },
     "execution_count": 10,
     "metadata": {},
     "output_type": "execute_result"
    }
   ],
   "source": [
    "list_a[1:3]"
   ]
  },
  {
   "cell_type": "markdown",
   "metadata": {},
   "source": [
    "An alternative way of iterating over the list using a `for` loop would be using an integer index and `range`."
   ]
  },
  {
   "cell_type": "code",
   "execution_count": 11,
   "metadata": {},
   "outputs": [
    {
     "name": "stdout",
     "output_type": "stream",
     "text": [
      "a\n",
      "b\n",
      "c\n",
      "d\n"
     ]
    }
   ],
   "source": [
    "for i in range(4):\n",
    "    print list_a[i]"
   ]
  },
  {
   "cell_type": "markdown",
   "metadata": {},
   "source": [
    "> **Exercise 1**: \n",
    "+ Create a cell below \n",
    "+ Display the first 2 elements of list_a\n",
    "\n"
   ]
  },
  {
   "cell_type": "markdown",
   "metadata": {},
   "source": [
    "Also one can assign values to elements of a list:"
   ]
  },
  {
   "cell_type": "code",
   "execution_count": 12,
   "metadata": {},
   "outputs": [
    {
     "name": "stdout",
     "output_type": "stream",
     "text": [
      "['z', 'b', 'c', 'd']\n"
     ]
    }
   ],
   "source": [
    "list_a[0] = 'z'\n",
    "print list_a"
   ]
  },
  {
   "cell_type": "markdown",
   "metadata": {},
   "source": [
    "Other operations one can do with lists can be found in the [Python documentation](https://docs.python.org/3/tutorial/datastructures.html)."
   ]
  },
  {
   "cell_type": "markdown",
   "metadata": {},
   "source": [
    "#### Dicts\n",
    "\"Dicts\" or \"Dictionaries\" map a key to a value.  One use case is to describe a collection of related objects with string-based keys.  For example:"
   ]
  },
  {
   "cell_type": "code",
   "execution_count": 13,
   "metadata": {
    "collapsed": true
   },
   "outputs": [],
   "source": [
    "population = {'Shanghai': 24.1, 'NYC': 8.5, 'Paris': 2.2} # population in millions"
   ]
  },
  {
   "cell_type": "markdown",
   "metadata": {},
   "source": [
    "In this case, it is a little more transparent which value one will be accessing (i.e. there is no need for an opaque integer index)."
   ]
  },
  {
   "cell_type": "code",
   "execution_count": 14,
   "metadata": {},
   "outputs": [
    {
     "data": {
      "text/plain": [
       "24.1"
      ]
     },
     "execution_count": 14,
     "metadata": {},
     "output_type": "execute_result"
    }
   ],
   "source": [
    "population['Shanghai']"
   ]
  },
  {
   "cell_type": "markdown",
   "metadata": {},
   "source": [
    "Again one can find more information on Python dictionaries in the [documentation](https://docs.python.org/3/tutorial/datastructures.html?highlight=dictionaries#dictionaries)."
   ]
  },
  {
   "cell_type": "markdown",
   "metadata": {},
   "source": [
    "#### `NumPy` and `NumPy` arrays\n",
    "`NumPy` is a standard package for scientific computing with Python. It contains among other things:\n",
    "\n",
    "- `NumPy` arrays that can be used to store N-dimensional tables.\n",
    "- Functions and useful linear algebra\n",
    "\n",
    "`NumPy` is not part of the standard library of Python; therefore we need to import it using an import statement."
   ]
  },
  {
   "cell_type": "code",
   "execution_count": 15,
   "metadata": {
    "collapsed": true
   },
   "outputs": [],
   "source": [
    "import numpy as np"
   ]
  },
  {
   "cell_type": "markdown",
   "metadata": {},
   "source": [
    "To create a simple 2D numpy array, we can use a nested list:"
   ]
  },
  {
   "cell_type": "code",
   "execution_count": 16,
   "metadata": {
    "collapsed": true
   },
   "outputs": [],
   "source": [
    "arr = np.array([[1, 2, 5],\n",
    "                [3, 4, 8]])"
   ]
  },
  {
   "cell_type": "markdown",
   "metadata": {},
   "source": [
    "This array consists of two rows and three columns:"
   ]
  },
  {
   "cell_type": "code",
   "execution_count": 17,
   "metadata": {},
   "outputs": [
    {
     "data": {
      "text/plain": [
       "(2, 3)"
      ]
     },
     "execution_count": 17,
     "metadata": {},
     "output_type": "execute_result"
    }
   ],
   "source": [
    "arr.shape"
   ]
  },
  {
   "cell_type": "markdown",
   "metadata": {},
   "source": [
    "Analogously to the 1D list, we can index a 2D array using integer indexes:"
   ]
  },
  {
   "cell_type": "code",
   "execution_count": 18,
   "metadata": {},
   "outputs": [
    {
     "data": {
      "text/plain": [
       "2"
      ]
     },
     "execution_count": 18,
     "metadata": {},
     "output_type": "execute_result"
    }
   ],
   "source": [
    "row = 0\n",
    "col = 1\n",
    "arr[row, col]"
   ]
  },
  {
   "cell_type": "markdown",
   "metadata": {},
   "source": [
    "You can use slices to index rows and columns separately; for instance if we wanted to select just the first two columns of the array we could write:"
   ]
  },
  {
   "cell_type": "code",
   "execution_count": 19,
   "metadata": {},
   "outputs": [
    {
     "data": {
      "text/plain": [
       "array([[1, 2],\n",
       "       [3, 4]])"
      ]
     },
     "execution_count": 19,
     "metadata": {},
     "output_type": "execute_result"
    }
   ],
   "source": [
    "arr[:, :2]"
   ]
  },
  {
   "cell_type": "markdown",
   "metadata": {},
   "source": [
    "Many `numpy` functions can be passed an \"axis\" argument; this specifies a particular axis of the array to execute the function along.  For example, using our 2D array, we can sum along each axis:"
   ]
  },
  {
   "cell_type": "code",
   "execution_count": 20,
   "metadata": {},
   "outputs": [
    {
     "data": {
      "text/plain": [
       "array([ 4,  6, 13])"
      ]
     },
     "execution_count": 20,
     "metadata": {},
     "output_type": "execute_result"
    }
   ],
   "source": [
    "np.sum(arr, axis=0)"
   ]
  },
  {
   "cell_type": "code",
   "execution_count": 21,
   "metadata": {},
   "outputs": [
    {
     "data": {
      "text/plain": [
       "array([ 8, 15])"
      ]
     },
     "execution_count": 21,
     "metadata": {},
     "output_type": "execute_result"
    }
   ],
   "source": [
    "np.sum(arr, axis=1)"
   ]
  },
  {
   "cell_type": "markdown",
   "metadata": {},
   "source": [
    "We can also use the function linspace, which linearly interpolates values between the specified starting and end points. We can also sum all the elements of x using sum."
   ]
  },
  {
   "cell_type": "code",
   "execution_count": 22,
   "metadata": {},
   "outputs": [
    {
     "name": "stdout",
     "output_type": "stream",
     "text": [
      "[ 2.    2.25  2.5   2.75  3.  ]\n",
      "12.5\n"
     ]
    }
   ],
   "source": [
    "x = np.linspace(2, 3, 5)\n",
    "y = np.sum(x)\n",
    "print x\n",
    "print y"
   ]
  },
  {
   "cell_type": "markdown",
   "metadata": {},
   "source": [
    "Lastly, we can create an empty array of zeros by using the `np.zeros` command (say if we wanted to create a blank one to assign values to later)."
   ]
  },
  {
   "cell_type": "code",
   "execution_count": 23,
   "metadata": {},
   "outputs": [
    {
     "data": {
      "text/plain": [
       "array([ 0.,  0.,  0.,  0.,  0.])"
      ]
     },
     "execution_count": 23,
     "metadata": {},
     "output_type": "execute_result"
    }
   ],
   "source": [
    "z = np.zeros(5)\n",
    "z"
   ]
  },
  {
   "cell_type": "markdown",
   "metadata": {},
   "source": [
    "The `numpy` library implements a huge number of functions that one can use on arrays.  We'll get a taste for a few of them later on, but more detail can be found in the [`numpy` documentation](https://docs.scipy.org/doc/numpy-1.12.0/reference/)."
   ]
  },
  {
   "cell_type": "markdown",
   "metadata": {},
   "source": [
    ">** Exercise 2:** \n",
    "+ Create a cell below \n",
    "+ Create an array called x of 200 equally spaced values between 0 and 12.\n",
    "+ Using a for loop and the sum function, compute the cumulative sum of x (i.e. an array of same dimension as x in which the nth element is the sum of the first n elements of x). \n",
    "\n"
   ]
  },
  {
   "cell_type": "code",
   "execution_count": 24,
   "metadata": {},
   "outputs": [
    {
     "name": "stdout",
     "output_type": "stream",
     "text": [
      "[1, 3, 6, 10]\n"
     ]
    }
   ],
   "source": [
    "x = [1, 2, 3, 4]\n",
    "y = [0, 0, 0, 0]\n",
    "\n",
    "for i in range(4):\n",
    "    y[i] = np.sum(x[:i+1])\n",
    "print y"
   ]
  },
  {
   "cell_type": "code",
   "execution_count": 57,
   "metadata": {},
   "outputs": [
    {
     "name": "stdout",
     "output_type": "stream",
     "text": [
      "[  0.00000000e+00   6.03015075e-02   1.80904523e-01   3.61809045e-01\n",
      "   6.03015075e-01   9.04522613e-01   1.26633166e+00   1.68844221e+00\n",
      "   2.17085427e+00   2.71356784e+00   3.31658291e+00   3.97989950e+00\n",
      "   4.70351759e+00   5.48743719e+00   6.33165829e+00   7.23618090e+00\n",
      "   8.20100503e+00   9.22613065e+00   1.03115578e+01   1.14572864e+01\n",
      "   1.26633166e+01   1.39296482e+01   1.52562814e+01   1.66432161e+01\n",
      "   1.80904523e+01   1.95979899e+01   2.11658291e+01   2.27939698e+01\n",
      "   2.44824121e+01   2.62311558e+01   2.80402010e+01   2.99095477e+01\n",
      "   3.18391960e+01   3.38291457e+01   3.58793970e+01   3.79899497e+01\n",
      "   4.01608040e+01   4.23919598e+01   4.46834171e+01   4.70351759e+01\n",
      "   4.94472362e+01   5.19195980e+01   5.44522613e+01   5.70452261e+01\n",
      "   5.96984925e+01   6.24120603e+01   6.51859296e+01   6.80201005e+01\n",
      "   7.09145729e+01   7.38693467e+01   7.68844221e+01   7.99597990e+01\n",
      "   8.30954774e+01   8.62914573e+01   8.95477387e+01   9.28643216e+01\n",
      "   9.62412060e+01   9.96783920e+01   1.03175879e+02   1.06733668e+02\n",
      "   1.10351759e+02   1.14030151e+02   1.17768844e+02   1.21567839e+02\n",
      "   1.25427136e+02   1.29346734e+02   1.33326633e+02   1.37366834e+02\n",
      "   1.41467337e+02   1.45628141e+02   1.49849246e+02   1.54130653e+02\n",
      "   1.58472362e+02   1.62874372e+02   1.67336683e+02   1.71859296e+02\n",
      "   1.76442211e+02   1.81085427e+02   1.85788945e+02   1.90552764e+02\n",
      "   1.95376884e+02   2.00261307e+02   2.05206030e+02   2.10211055e+02\n",
      "   2.15276382e+02   2.20402010e+02   2.25587940e+02   2.30834171e+02\n",
      "   2.36140704e+02   2.41507538e+02   2.46934673e+02   2.52422111e+02\n",
      "   2.57969849e+02   2.63577889e+02   2.69246231e+02   2.74974874e+02\n",
      "   2.80763819e+02   2.86613065e+02   2.92522613e+02   2.98492462e+02\n",
      "   3.04522613e+02   3.10613065e+02   3.16763819e+02   3.22974874e+02\n",
      "   3.29246231e+02   3.35577889e+02   3.41969849e+02   3.48422111e+02\n",
      "   3.54934673e+02   3.61507538e+02   3.68140704e+02   3.74834171e+02\n",
      "   3.81587940e+02   3.88402010e+02   3.95276382e+02   4.02211055e+02\n",
      "   4.09206030e+02   4.16261307e+02   4.23376884e+02   4.30552764e+02\n",
      "   4.37788945e+02   4.45085427e+02   4.52442211e+02   4.59859296e+02\n",
      "   4.67336683e+02   4.74874372e+02   4.82472362e+02   4.90130653e+02\n",
      "   4.97849246e+02   5.05628141e+02   5.13467337e+02   5.21366834e+02\n",
      "   5.29326633e+02   5.37346734e+02   5.45427136e+02   5.53567839e+02\n",
      "   5.61768844e+02   5.70030151e+02   5.78351759e+02   5.86733668e+02\n",
      "   5.95175879e+02   6.03678392e+02   6.12241206e+02   6.20864322e+02\n",
      "   6.29547739e+02   6.38291457e+02   6.47095477e+02   6.55959799e+02\n",
      "   6.64884422e+02   6.73869347e+02   6.82914573e+02   6.92020101e+02\n",
      "   7.01185930e+02   7.10412060e+02   7.19698492e+02   7.29045226e+02\n",
      "   7.38452261e+02   7.47919598e+02   7.57447236e+02   7.67035176e+02\n",
      "   7.76683417e+02   7.86391960e+02   7.96160804e+02   8.05989950e+02\n",
      "   8.15879397e+02   8.25829146e+02   8.35839196e+02   8.45909548e+02\n",
      "   8.56040201e+02   8.66231156e+02   8.76482412e+02   8.86793970e+02\n",
      "   8.97165829e+02   9.07597990e+02   9.18090452e+02   9.28643216e+02\n",
      "   9.39256281e+02   9.49929648e+02   9.60663317e+02   9.71457286e+02\n",
      "   9.82311558e+02   9.93226131e+02   1.00420101e+03   1.01523618e+03\n",
      "   1.02633166e+03   1.03748744e+03   1.04870352e+03   1.05997990e+03\n",
      "   1.07131658e+03   1.08271357e+03   1.09417085e+03   1.10568844e+03\n",
      "   1.11726633e+03   1.12890452e+03   1.14060302e+03   1.15236181e+03\n",
      "   1.16418090e+03   1.17606030e+03   1.18800000e+03   1.20000000e+03]\n"
     ]
    }
   ],
   "source": [
    "x = np.linspace(0, 12, 200)\n",
    " \n",
    "y = np.zeros(x.shape)\n",
    "#y = x*0.\n",
    "#print y.shape\n",
    "\n",
    "for i in xrange(0, 200):\n",
    "    y[i] = np.sum(x[0:i+1])\n",
    "    \n",
    "print y"
   ]
  },
  {
   "cell_type": "code",
   "execution_count": 59,
   "metadata": {},
   "outputs": [
    {
     "data": {
      "text/plain": [
       "array([  0.00000000e+00,   6.03015075e-02,   1.80904523e-01,\n",
       "         3.61809045e-01,   6.03015075e-01,   9.04522613e-01,\n",
       "         1.26633166e+00,   1.68844221e+00,   2.17085427e+00,\n",
       "         2.71356784e+00,   3.31658291e+00,   3.97989950e+00,\n",
       "         4.70351759e+00,   5.48743719e+00,   6.33165829e+00,\n",
       "         7.23618090e+00,   8.20100503e+00,   9.22613065e+00,\n",
       "         1.03115578e+01,   1.14572864e+01,   1.26633166e+01,\n",
       "         1.39296482e+01,   1.52562814e+01,   1.66432161e+01,\n",
       "         1.80904523e+01,   1.95979899e+01,   2.11658291e+01,\n",
       "         2.27939698e+01,   2.44824121e+01,   2.62311558e+01,\n",
       "         2.80402010e+01,   2.99095477e+01,   3.18391960e+01,\n",
       "         3.38291457e+01,   3.58793970e+01,   3.79899497e+01,\n",
       "         4.01608040e+01,   4.23919598e+01,   4.46834171e+01,\n",
       "         4.70351759e+01,   4.94472362e+01,   5.19195980e+01,\n",
       "         5.44522613e+01,   5.70452261e+01,   5.96984925e+01,\n",
       "         6.24120603e+01,   6.51859296e+01,   6.80201005e+01,\n",
       "         7.09145729e+01,   7.38693467e+01,   7.68844221e+01,\n",
       "         7.99597990e+01,   8.30954774e+01,   8.62914573e+01,\n",
       "         8.95477387e+01,   9.28643216e+01,   9.62412060e+01,\n",
       "         9.96783920e+01,   1.03175879e+02,   1.06733668e+02,\n",
       "         1.10351759e+02,   1.14030151e+02,   1.17768844e+02,\n",
       "         1.21567839e+02,   1.25427136e+02,   1.29346734e+02,\n",
       "         1.33326633e+02,   1.37366834e+02,   1.41467337e+02,\n",
       "         1.45628141e+02,   1.49849246e+02,   1.54130653e+02,\n",
       "         1.58472362e+02,   1.62874372e+02,   1.67336683e+02,\n",
       "         1.71859296e+02,   1.76442211e+02,   1.81085427e+02,\n",
       "         1.85788945e+02,   1.90552764e+02,   1.95376884e+02,\n",
       "         2.00261307e+02,   2.05206030e+02,   2.10211055e+02,\n",
       "         2.15276382e+02,   2.20402010e+02,   2.25587940e+02,\n",
       "         2.30834171e+02,   2.36140704e+02,   2.41507538e+02,\n",
       "         2.46934673e+02,   2.52422111e+02,   2.57969849e+02,\n",
       "         2.63577889e+02,   2.69246231e+02,   2.74974874e+02,\n",
       "         2.80763819e+02,   2.86613065e+02,   2.92522613e+02,\n",
       "         2.98492462e+02,   3.04522613e+02,   3.10613065e+02,\n",
       "         3.16763819e+02,   3.22974874e+02,   3.29246231e+02,\n",
       "         3.35577889e+02,   3.41969849e+02,   3.48422111e+02,\n",
       "         3.54934673e+02,   3.61507538e+02,   3.68140704e+02,\n",
       "         3.74834171e+02,   3.81587940e+02,   3.88402010e+02,\n",
       "         3.95276382e+02,   4.02211055e+02,   4.09206030e+02,\n",
       "         4.16261307e+02,   4.23376884e+02,   4.30552764e+02,\n",
       "         4.37788945e+02,   4.45085427e+02,   4.52442211e+02,\n",
       "         4.59859296e+02,   4.67336683e+02,   4.74874372e+02,\n",
       "         4.82472362e+02,   4.90130653e+02,   4.97849246e+02,\n",
       "         5.05628141e+02,   5.13467337e+02,   5.21366834e+02,\n",
       "         5.29326633e+02,   5.37346734e+02,   5.45427136e+02,\n",
       "         5.53567839e+02,   5.61768844e+02,   5.70030151e+02,\n",
       "         5.78351759e+02,   5.86733668e+02,   5.95175879e+02,\n",
       "         6.03678392e+02,   6.12241206e+02,   6.20864322e+02,\n",
       "         6.29547739e+02,   6.38291457e+02,   6.47095477e+02,\n",
       "         6.55959799e+02,   6.64884422e+02,   6.73869347e+02,\n",
       "         6.82914573e+02,   6.92020101e+02,   7.01185930e+02,\n",
       "         7.10412060e+02,   7.19698492e+02,   7.29045226e+02,\n",
       "         7.38452261e+02,   7.47919598e+02,   7.57447236e+02,\n",
       "         7.67035176e+02,   7.76683417e+02,   7.86391960e+02,\n",
       "         7.96160804e+02,   8.05989950e+02,   8.15879397e+02,\n",
       "         8.25829146e+02,   8.35839196e+02,   8.45909548e+02,\n",
       "         8.56040201e+02,   8.66231156e+02,   8.76482412e+02,\n",
       "         8.86793970e+02,   8.97165829e+02,   9.07597990e+02,\n",
       "         9.18090452e+02,   9.28643216e+02,   9.39256281e+02,\n",
       "         9.49929648e+02,   9.60663317e+02,   9.71457286e+02,\n",
       "         9.82311558e+02,   9.93226131e+02,   1.00420101e+03,\n",
       "         1.01523618e+03,   1.02633166e+03,   1.03748744e+03,\n",
       "         1.04870352e+03,   1.05997990e+03,   1.07131658e+03,\n",
       "         1.08271357e+03,   1.09417085e+03,   1.10568844e+03,\n",
       "         1.11726633e+03,   1.12890452e+03,   1.14060302e+03,\n",
       "         1.15236181e+03,   1.16418090e+03,   1.17606030e+03,\n",
       "         1.18800000e+03,   1.20000000e+03])"
      ]
     },
     "execution_count": 59,
     "metadata": {},
     "output_type": "execute_result"
    }
   ],
   "source": [
    "np.cumsum(x)  # Note that this is the same as the np.cumsum function"
   ]
  },
  {
   "cell_type": "markdown",
   "metadata": {},
   "source": [
    "Finally, `numpy` contains a function for loading in data from a text file.  This function is called [`np.loadtxt`](https://docs.scipy.org/doc/numpy/reference/generated/numpy.loadtxt.html).  One common way to store data is in CSV (comma separated value) format.  What this means is that in a text file, datapoints are stored in columns separated by commas (or more generally some \"delimiter\").\n",
    "\n",
    "For example if we had a text file whose contents looked like:\n",
    "```\n",
    "a, b, c\n",
    "1, 1, 2\n",
    "3, 4, 5\n",
    "```\n",
    "and was called `example.csv`, we could load it into `numpy` with the following command:\n",
    "```\n",
    "arr = np.loadtxt('example.csv', delimiter=',', skiprows=1)\n",
    "```\n",
    "Now the array (`arr`) will look like:\n",
    "```\n",
    "[[1, 1, 2],\n",
    "[3, 4, 5]]\n",
    "```\n",
    "We have used the `delimiter` argument to `np.loadtxt` to specify that the datapoints are separated using commas, and have used the `skiprows` argument to specify that we wish to ignore the first row (which contains the column labels, and not the datapoints themselves)."
   ]
  },
  {
   "cell_type": "code",
   "execution_count": 60,
   "metadata": {
    "collapsed": true
   },
   "outputs": [],
   "source": [
    "arr = np.loadtxt('example.csv', delimiter=',', skiprows=1)"
   ]
  },
  {
   "cell_type": "code",
   "execution_count": 61,
   "metadata": {},
   "outputs": [
    {
     "data": {
      "text/plain": [
       "array([[ 1.,  1.,  2.],\n",
       "       [ 3.,  4.,  5.]])"
      ]
     },
     "execution_count": 61,
     "metadata": {},
     "output_type": "execute_result"
    }
   ],
   "source": [
    "arr"
   ]
  },
  {
   "cell_type": "markdown",
   "metadata": {},
   "source": [
    "\n",
    "## 3. Plotting a time series\n",
    "Here we will introduce some more applications-driven examples.  Plotting in Python is typically done using the [`matplotlib`](https://matplotlib.org) library.  Again `matplotlib` is not part of the Python standard library so we will have to import it.  In addition, if we want to view figures produced by `matplotlib` in the Jupyter notebook, we need to add another command."
   ]
  },
  {
   "cell_type": "code",
   "execution_count": 62,
   "metadata": {
    "collapsed": true
   },
   "outputs": [],
   "source": [
    "import matplotlib.pyplot as plt\n",
    "\n",
    "# To view matplotlib figures beneath the cells that produced them\n",
    "%matplotlib inline"
   ]
  },
  {
   "cell_type": "markdown",
   "metadata": {},
   "source": [
    "As a basic example, we'll plot a family of sine curves using `matplotlib` to illustrate the basics of making a plot.  We'll plot:\n",
    "$$ y = \\sin(t - a) $$\n",
    "and vary the value of $a$.  First we'll create some values for $x$.  To do so, we'll use the `linspace` command, which linearly interpolates values between the specified beginning and end points."
   ]
  },
  {
   "cell_type": "markdown",
   "metadata": {},
   "source": [
    "To create an environment in which we can make a plot, we'll use the [`plt.subplots`](https://matplotlib.org/api/pyplot_api.html?highlight=subplots#matplotlib.pyplot.subplots) command.  This returns a [`Figure`](https://matplotlib.org/api/figure_api.html?highlight=figure#module-matplotlib.figure) object and single [`Axes`](https://matplotlib.org/api/axes_api.html#matplotlib.axes.Axes) object or list of `Axes` objects, depending on the two input arguments.  The first input argument is the number of rows of `Axes` and the second is the number of columns (so 2, 2 would represent four `Axes` objects).\n",
    "\n",
    "Below is a simple example of a single panel plot.  To plot a line we will use the [`plot`](https://matplotlib.org/api/_as_gen/matplotlib.axes.Axes.plot.html?highlight=plot#matplotlib.axes.Axes.plot) command."
   ]
  },
  {
   "cell_type": "code",
   "execution_count": 63,
   "metadata": {},
   "outputs": [
    {
     "data": {
      "text/plain": [
       "<matplotlib.text.Text at 0x116439450>"
      ]
     },
     "execution_count": 63,
     "metadata": {},
     "output_type": "execute_result"
    },
    {
     "data": {
      "image/png": "[encoded data removed]",
      "text/plain": [
       "<matplotlib.figure.Figure at 0x11635c510>"
      ]
     },
     "metadata": {},
     "output_type": "display_data"
    }
   ],
   "source": [
    "fig, ax = plt.subplots(1, 1)\n",
    "t = np.linspace(-3. * np.pi, 3. * np.pi, 500)\n",
    "y = np.sin(t)\n",
    "ax.plot(t, y)\n",
    "ax.set_xlim([-2. * np.pi, 2. * np.pi])\n",
    "ax.set_ylim([-1.25, 1.25])\n",
    "ax.set_xlabel('time')\n",
    "ax.set_ylabel('y')\n",
    "ax.set_title('Title')"
   ]
  },
  {
   "cell_type": "markdown",
   "metadata": {},
   "source": [
    "This is an example of a two-panel plot."
   ]
  },
  {
   "cell_type": "code",
   "execution_count": 64,
   "metadata": {},
   "outputs": [
    {
     "data": {
      "image/png": "[encoded data removed]",
      "text/plain": [
       "<matplotlib.figure.Figure at 0x1164f9650>"
      ]
     },
     "metadata": {},
     "output_type": "display_data"
    }
   ],
   "source": [
    "fig, axes = plt.subplots(1, 2)\n",
    "fig.set_size_inches(8, 3)\n",
    "y = np.sin(t)\n",
    "\n",
    "for ax in axes:\n",
    "    ax.plot(t, y)\n",
    "    ax.set_xlim([-2. * np.pi, 2. * np.pi])\n",
    "    ax.set_ylim([-1.25, 1.25])\n",
    "    ax.set_xlabel('time')\n",
    "    ax.set_ylabel('y')\n",
    "    ax.set_title('Title')"
   ]
  },
  {
   "cell_type": "markdown",
   "metadata": {},
   "source": [
    "Adding a [legend](https://matplotlib.org/api/_as_gen/matplotlib.axes.Axes.legend.html?highlight=ax%20legend#matplotlib.axes.Axes.legend) requires setting a label in your plot command."
   ]
  },
  {
   "cell_type": "code",
   "execution_count": 65,
   "metadata": {},
   "outputs": [
    {
     "data": {
      "text/plain": [
       "<matplotlib.legend.Legend at 0x113046c50>"
      ]
     },
     "execution_count": 65,
     "metadata": {},
     "output_type": "execute_result"
    },
    {
     "data": {
      "image/png": "[encoded data removed]",
      "text/plain": [
       "<matplotlib.figure.Figure at 0x1164f9b50>"
      ]
     },
     "metadata": {},
     "output_type": "display_data"
    }
   ],
   "source": [
    "fig, ax = plt.subplots(1, 1)\n",
    "a_values = np.array([1, 2, 3, 4]) / np.pi\n",
    "\n",
    "for a in a_values:\n",
    "    y = np.sin(t - a)\n",
    "    ax.plot(t, y, label='a = {:0.2f}'.format(a))\n",
    "\n",
    "ax.set_xlim([-2. * np.pi, 2. * np.pi])\n",
    "ax.set_ylim([-1.75, 1.75])\n",
    "ax.set_xlabel('time')\n",
    "ax.set_ylabel('y')\n",
    "ax.set_title('Title')\n",
    "ax.legend(loc='upper right', ncol=2, frameon=False)"
   ]
  },
  {
   "cell_type": "markdown",
   "metadata": {},
   "source": [
    ">**Exercise 3**\n",
    "\n",
    "Using np.loadtxt .... plotting a timeseries of CO2\n",
    "Rather than continue plotting with synthetic data, we'll demonstrate some more things using some data that we'll load in.  These are measurements from on Mauna Loa in Hawaii.  This is a monthly timeseries.  We will load it using `numpy.loadtxt`, because this will return a `numpy` array; alternatively one could use a higher-level package like [`pandas`](https://pandas.pydata.org/pandas-docs/stable/generated/pandas.read_csv.html) to load the CSV file.\n"
   ]
  },
  {
   "cell_type": "code",
   "execution_count": 66,
   "metadata": {
    "collapsed": true
   },
   "outputs": [],
   "source": [
    "data = np.loadtxt('monthly_in_situ_co2_mauna_loa.csv', skiprows=3, delimiter=',')"
   ]
  },
  {
   "cell_type": "code",
   "execution_count": 67,
   "metadata": {},
   "outputs": [
    {
     "data": {
      "text/plain": [
       "<matplotlib.text.Text at 0x11686c050>"
      ]
     },
     "execution_count": 67,
     "metadata": {},
     "output_type": "execute_result"
    },
    {
     "data": {
      "image/png": "[encoded data removed]",
      "text/plain": [
       "<matplotlib.figure.Figure at 0x11686af10>"
      ]
     },
     "metadata": {},
     "output_type": "display_data"
    }
   ],
   "source": [
    "time = data[:, 3]\n",
    "co2 = data[:, -2]\n",
    "co2 = np.ma.masked_where(co2 < 0, co2)  # Missing values are encoded as -99.0; we can mask these\n",
    "fig, ax = plt.subplots(1, 1)\n",
    "ax.plot(time, co2)\n",
    "ax.set_xlabel('Year')\n",
    "ax.set_ylabel('CO2 [ppm]')"
   ]
  },
  {
   "cell_type": "code",
   "execution_count": null,
   "metadata": {
    "collapsed": true
   },
   "outputs": [],
   "source": []
  }
 ],
 "metadata": {
  "kernelspec": {
   "display_name": "Python 2",
   "language": "python",
   "name": "python2"
  },
  "language_info": {
   "codemirror_mode": {
    "name": "ipython",
    "version": 2
   },
   "file_extension": ".py",
   "mimetype": "text/x-python",
   "name": "python",
   "nbconvert_exporter": "python",
   "pygments_lexer": "ipython2",
   "version": "2.7.13"
  }
 },
 "nbformat": 4,
 "nbformat_minor": 2
}
