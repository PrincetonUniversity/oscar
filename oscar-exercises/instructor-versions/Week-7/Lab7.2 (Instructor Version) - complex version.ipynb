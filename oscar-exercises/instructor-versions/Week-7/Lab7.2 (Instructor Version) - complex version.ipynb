{
 "cells": [
  {
   "cell_type": "code",
   "execution_count": 2,
   "metadata": {
    "collapsed": true
   },
   "outputs": [],
   "source": [
    "import matplotlib.pyplot as plt\n",
    "import numpy as np\n",
    "\n",
    "from oscar import OSCAR\n",
    "\n",
    "%matplotlib inline"
   ]
  },
  {
   "cell_type": "markdown",
   "metadata": {},
   "source": [
    "<div class=\"alert alert-info\"><h1>Exercise 1: Solar Geoengineering</h1></div>\n",
    "\n",
    "The most straightforward way to combat climate change is to reduce our carbon emissions; however, given our modern society's dependence on using large amounts of energy, this may be difficult to achieve without rapid adoption (and improvement) of renewable energy technologies. In the event that we are not able to reduce emissions (e.g. if countries do not hold to their Paris agreement commitments), what options do we have to prevent temperatures from rising to dangerous levels?\n",
    "\n",
    "One option is so-called \"solar-geoengineering.\"  There have been multiple proposals that fall under this umbrella, which essentially aims at reducing the amount of solar radiation absorbed by the Earth.  One proposal is to inject large quantities of sulfate aerosols into the stratosphere; since sulfate aerosols are scattering, they reflect some incoming solar radiation back to space (which is a cooling effect).  This cooling effect could be engineered exactly to offset the warming associated with the anthropogenic emission of greenhouse gases.  \n",
    "\n",
    "For the purposes of this exercise, the goal will be to keep warming in 2100 to only 2K above the year 1700 value under the RCP8.5 emissions scenario.  In this exercise we will attempt to determine three things:\n",
    "\n",
    "- The additional (negative) radiative forcing required to keep temperatures below 2K.\n",
    "- The quantity of emissions of sulfate aerosols into the troposphere that would be required to create this forcing.\n",
    "- The quantity of emissions of sulfate aerosols into the *stratosphere* to achieve the same effect."
   ]
  },
  {
   "cell_type": "markdown",
   "metadata": {},
   "source": [
    "1. Start by running a simulation through year 2100 with the RCP8.5 used for all emissions.  How many degrees do we need to cool things by in 2100 to limit the temperature increase relative to year 1700 to 2K?"
   ]
  },
  {
   "cell_type": "code",
   "execution_count": 3,
   "metadata": {},
   "outputs": [
    {
     "name": "stdout",
     "output_type": "stream",
     "text": [
      "LOADING: DRIVERS\n",
      "LOADING: PARAMETERS\n",
      "FORMATING\n"
     ]
    }
   ],
   "source": [
    "rcp85 = OSCAR(scen_ALL='RCP8.5').run(2100)"
   ]
  },
  {
   "cell_type": "code",
   "execution_count": 4,
   "metadata": {},
   "outputs": [
    {
     "name": "stdout",
     "output_type": "stream",
     "text": [
      "The warming we need to offset amounts to 2.71 K.\n"
     ]
    },
    {
     "data": {
      "image/png": "[encoded data removed]",
      "text/plain": [
       "<matplotlib.figure.Figure at 0x11888eb90>"
      ]
     },
     "metadata": {},
     "output_type": "display_data"
    }
   ],
   "source": [
    "fig, ax = plt.subplots(1, 1)\n",
    "\n",
    "year = np.arange(len(rcp85['D_gst'])) + 1700\n",
    "\n",
    "ax.plot(year, rcp85['D_gst'])\n",
    "ax.axhline(2.0, color='k', ls='--')\n",
    "\n",
    "print 'The warming we need to offset amounts to {:0.2f} K.'.format(rcp85['D_gst'][-1] - 2.0)"
   ]
  },
  {
   "cell_type": "markdown",
   "metadata": {},
   "source": [
    "<ol start=\"2\">\n",
    "<li>What is the value of a constant radiative forcing added to the simulation required to keep warming to 2K in 2100?  Determine this by running a set of simulations varying the magnitude of a prescribed radiative forcing. For example estimate the effect of a constant radiative forcing of -3 W/m2 etc. (use `scen_RF` along with [`np.ones`](https://docs.scipy.org/doc/numpy-1.13.0/reference/generated/numpy.ones.html) to prescribe a constant radiative forcing).  Plot the temperature difference between the basic RCP8.5 simulation and the RCP8.5 simulation with a prescribed additional radiative forcing in the year 2100 against the radiative forcing applied.  Estimate the quantitative radiative forcing required to cool by exactly the amount required.</li>\n",
    "</ol>"
   ]
  },
  {
   "cell_type": "code",
   "execution_count": 5,
   "metadata": {},
   "outputs": [
    {
     "name": "stdout",
     "output_type": "stream",
     "text": [
      "LOADING: DRIVERS\n",
      "LOADING: PARAMETERS\n",
      "FORMATING\n",
      "LOADING: DRIVERS\n",
      "LOADING: PARAMETERS\n",
      "FORMATING\n",
      "LOADING: DRIVERS\n",
      "LOADING: PARAMETERS\n",
      "FORMATING\n"
     ]
    }
   ],
   "source": [
    "magnitudes = [-5.0, -3.0, -1.0]\n",
    "rcps = {magnitude: OSCAR(scen_ALL='RCP8.5', scen_RF=np.ones(101) * magnitude).run(2100) for magnitude in magnitudes}"
   ]
  },
  {
   "cell_type": "code",
   "execution_count": 6,
   "metadata": {},
   "outputs": [
    {
     "data": {
      "text/plain": [
       "<matplotlib.text.Text at 0x118330f10>"
      ]
     },
     "execution_count": 6,
     "metadata": {},
     "output_type": "execute_result"
    },
    {
     "data": {
      "image/png": "[encoded data removed]",
      "text/plain": [
       "<matplotlib.figure.Figure at 0x1183a2610>"
      ]
     },
     "metadata": {},
     "output_type": "display_data"
    }
   ],
   "source": [
    "temps = [rcps[m]['D_gst'][-1] - rcp85['D_gst'][-1] for m in sorted(rcps.keys())]\n",
    "\n",
    "fig, ax = plt.subplots(1, 1)\n",
    "\n",
    "ax.plot(magnitudes, temps, marker='o', ls='--')\n",
    "ax.axhline(-2.71, color='k', ls='--')\n",
    "ax.set_ylabel('temperature response')\n",
    "ax.set_xlabel('RF applied ')"
   ]
  },
  {
   "cell_type": "code",
   "execution_count": 6,
   "metadata": {},
   "outputs": [
    {
     "name": "stdout",
     "output_type": "stream",
     "text": [
      "Required radiative forcing is about -4.04 Watts per square meter\n"
     ]
    }
   ],
   "source": [
    "RF = -2.71 / (temps[1] / magnitudes[1])\n",
    "print 'Required radiative forcing is about {:0.2f} Watts per square meter'.format(RF)"
   ]
  },
  {
   "cell_type": "markdown",
   "metadata": {},
   "source": [
    "<ol start=\"3\">\n",
    "<li>Does this value work?  Test it by providing a constant custom radiative forcing alongside the RCP8.5 scenario using the `scen_RF` argument and an array of ones scaled by the additional radiative forcing calculated above.</li>\n",
    "</ol>"
   ]
  },
  {
   "cell_type": "code",
   "execution_count": 7,
   "metadata": {
    "scrolled": true
   },
   "outputs": [
    {
     "name": "stdout",
     "output_type": "stream",
     "text": [
      "LOADING: DRIVERS\n",
      "LOADING: PARAMETERS\n",
      "FORMATING\n"
     ]
    }
   ],
   "source": [
    "test = OSCAR(scen_ALL='RCP8.5', scen_RF=np.ones(101) * RF).run(2100)"
   ]
  },
  {
   "cell_type": "code",
   "execution_count": 40,
   "metadata": {},
   "outputs": [
    {
     "data": {
      "text/plain": [
       "<matplotlib.text.Text at 0x110969c10>"
      ]
     },
     "execution_count": 40,
     "metadata": {},
     "output_type": "execute_result"
    },
    {
     "data": {
      "image/png": "[encoded data removed]",
      "text/plain": [
       "<matplotlib.figure.Figure at 0x10a8842d0>"
      ]
     },
     "metadata": {},
     "output_type": "display_data"
    }
   ],
   "source": [
    "fig, ax = plt.subplots(1, 1)\n",
    "\n",
    "ax.plot(year, test['D_gst'])\n",
    "ax.set_xlabel('Year')\n",
    "ax.set_ylabel('Deviation in Temperature [K]')"
   ]
  },
  {
   "cell_type": "markdown",
   "metadata": {},
   "source": [
    "<ol start=\"4\">\n",
    "<li>Let's focus in on the quantitative climate impact of sulfate aerosols.  To do so we'll construct an experiment to determine the relationship between the burden of sulfate aerosols and the radiative forcing.  With these values, we'll be able to determine burden of sulfate aerosols needed to generate the temperature change at 2100 calculated above.  Create a control simulation with no sulfate emissions past 2000 (note this is not quite the default configuration of `OSCAR`; the default configuration of `OSCAR` has no sulfate emissions past 2010).  **Hint: use the [`np.zeros`](https://docs.scipy.org/doc/numpy-1.13.0/reference/generated/numpy.zeros.html) function to generate an array of zeros to be passed into the `scen_ESO2` argument in the `OSCAR` constructor and use `mod_DATAscen='prescribed'`.**</li>\n",
    "<li>Then create five perturbation simulations, each with constant emissions past 2000: let the first one use 0.5 times the value of sulfate emissions in the control simulation at year 1999, the second use 1.0 times sulfate emissions in 1999, the third use 1.5, the fourth use 2.0, and the fifth use 2.5.  **Hint: use the [`np.ones`](https://docs.scipy.org/doc/numpy-1.13.0/reference/generated/numpy.ones.html) function to create an array of ones, scale that array by the appropriate value for each simulation, pass it to `scen_ESO2` and use `mod_DATAscen='prescribed'`.**</li>\n",
    "</ol>"
   ]
  },
  {
   "cell_type": "code",
   "execution_count": null,
   "metadata": {
    "collapsed": true
   },
   "outputs": [],
   "source": [
    "control = OSCAR(scen_ESO2=np.zeros(101), mod_DATAscen='prescribed').run(2100)"
   ]
  },
  {
   "cell_type": "code",
   "execution_count": 10,
   "metadata": {},
   "outputs": [
    {
     "name": "stdout",
     "output_type": "stream",
     "text": [
      "LOADING: DRIVERS\n",
      "LOADING: PARAMETERS\n",
      "FORMATING\n",
      "LOADING: DRIVERS\n",
      "LOADING: PARAMETERS\n",
      "FORMATING\n",
      "LOADING: DRIVERS\n",
      "LOADING: PARAMETERS\n",
      "FORMATING\n",
      "LOADING: DRIVERS\n",
      "LOADING: PARAMETERS\n",
      "FORMATING\n",
      "LOADING: DRIVERS\n",
      "LOADING: PARAMETERS\n",
      "FORMATING\n"
     ]
    }
   ],
   "source": [
    "simulations = {}\n",
    "strengths = [0.5, 1.0, 1.5, 2.0, 2.5]\n",
    "for strength in strengths:\n",
    "    simulations[strength] = OSCAR(\n",
    "        scen_ESO2=strength * control['ESO2']['Total'][299] * np.ones(101),\n",
    "        mod_DATAscen='prescribed').run(2100)"
   ]
  },
  {
   "cell_type": "markdown",
   "metadata": {
    "collapsed": true
   },
   "source": [
    "<ol start=\"5\">\n",
    "<li>Plot the difference in radiative forcing of sulfate aerosols (`'RF_SO4'`) between each of the perturbed simulations and the control simulation in year 2100 as a function of the difference in sulfate burden (`'D_SO4'`). What is the approximate slope of a line fitting the points (no need to do linear regression here)?</li>\n",
    "</ol>"
   ]
  },
  {
   "cell_type": "code",
   "execution_count": 11,
   "metadata": {
    "collapsed": true
   },
   "outputs": [],
   "source": [
    "drf = [simulations[s]['RF_SO4'][-1] - control['RF_SO4'][-1] \n",
    "       for s in sorted(simulations.keys())]"
   ]
  },
  {
   "cell_type": "code",
   "execution_count": 12,
   "metadata": {
    "collapsed": true
   },
   "outputs": [],
   "source": [
    "dburden = [simulations[s]['D_SO4'][-1] - control['D_SO4'][-1] \n",
    "           for s in sorted(simulations.keys())]"
   ]
  },
  {
   "cell_type": "code",
   "execution_count": 16,
   "metadata": {},
   "outputs": [
    {
     "name": "stdout",
     "output_type": "stream",
     "text": [
      "The slope of the line is: -0.3627 Watts per square meter per Tg SO4.\n"
     ]
    },
    {
     "data": {
      "image/png": "[encoded data removed]",
      "text/plain": [
       "<matplotlib.figure.Figure at 0x114025dd0>"
      ]
     },
     "metadata": {},
     "output_type": "display_data"
    }
   ],
   "source": [
    "fig, ax = plt.subplots(1, 1)\n",
    "\n",
    "ax.plot(dburden, drf, marker='o', ls='')\n",
    "\n",
    "slope = drf[-1] / dburden[-1]\n",
    "x = np.linspace(0, 3)\n",
    "ax.plot(x, slope * x, color='k', ls='--')\n",
    "\n",
    "ax.set_xlabel('SO4 Burden [Tg]')\n",
    "ax.set_ylabel('Radiative Forcing [W m$^{-2}$]')\n",
    "print 'The slope of the line is: {:0.4f} Watts per square meter per Tg SO4.'.format(slope)"
   ]
  },
  {
   "cell_type": "markdown",
   "metadata": {},
   "source": [
    "<ol start=\"6\">\n",
    "<li>According to this calculation, what additional burden of sulfate will be needed to generate the radiative forcing calculated in question (2)?</li>\n",
    "</ol>"
   ]
  },
  {
   "cell_type": "code",
   "execution_count": 17,
   "metadata": {},
   "outputs": [
    {
     "name": "stdout",
     "output_type": "stream",
     "text": [
      "The additional burden of sulfate required is 11.13 Tg.\n"
     ]
    }
   ],
   "source": [
    "additional_burden = RF / slope\n",
    "print 'The additional burden of sulfate required is {:0.2f} Tg.'.format(additional_burden)"
   ]
  },
  {
   "cell_type": "markdown",
   "metadata": {},
   "source": [
    "<ol start=\"7\">\n",
    "<li>What additional emissions will be needed to achieve this burden?  Determine this by plotting the sulfur dioxide emissions versus sulfate burden in the last year of the perturbed simulations; i.e. assume $S = \\tau E$, where $S$ is the sulfate burden, and $E$ is the emissions of SO2. Find $\\tau$.</li>\n",
    "</ol>"
   ]
  },
  {
   "cell_type": "code",
   "execution_count": 18,
   "metadata": {},
   "outputs": [
    {
     "data": {
      "image/png": "[encoded data removed]",
      "text/plain": [
       "<matplotlib.figure.Figure at 0x1107698d0>"
      ]
     },
     "metadata": {},
     "output_type": "display_data"
    }
   ],
   "source": [
    "d = [simulations[s]['D_SO4'][-1] for s in strengths]\n",
    "e = [simulations[s]['ESO2']['Total'][-1] for s in strengths]\n",
    "\n",
    "fig, ax = plt.subplots(1, 1)\n",
    "ax.plot(e, d, marker='o', ls='--')\n",
    "ax.set_ylabel('Sulfate burden [Tg]')\n",
    "ax.set_xlabel('Sulfate emissions [Mt yr$^{-1}$ = Tg yr$^{-1}$]')\n",
    "tau = d[-1] / e[-1]"
   ]
  },
  {
   "cell_type": "code",
   "execution_count": 21,
   "metadata": {},
   "outputs": [
    {
     "name": "stdout",
     "output_type": "stream",
     "text": [
      "The additional emissions required will be 640.94 Mt per year\n"
     ]
    }
   ],
   "source": [
    "additional_emissions = additional_burden / tau \n",
    "print 'The additional emissions required will be {:0.2f} Mt per year'.format(additional_emissions)"
   ]
  },
  {
   "cell_type": "markdown",
   "metadata": {},
   "source": [
    "<ol start=\"8\">\n",
    "<li>What is the significance of the slope of the line fitting the sulfur dioxide emissions to sulfate burden?</li>\n",
    "</ol>\n",
    "\n",
    "Note that we can approximate the budget for the burden of sulfate in the atmosphere as being:\n",
    "$$\\frac{dS}{dt} \\approx E - \\frac{S}{\\tau}$$\n",
    "Here $S$ is the burden, and $E$ is the emissions.  In steady state (i.e. when the sulfate burden is not changing in the atmosphere, as it is at the end of the perturbed simulations) the time derivative is zero.  Therefore:\n",
    "$$0 = E - \\frac{S}{\\tau} \\implies E = \\frac{S}{\\tau} \\implies \\tau = \\frac{S}{E}.$$\n",
    "This is the slope of the line we computed above.\n",
    "\n",
    "Now, consider the case where emissions are zero ($E = 0$), but the burden is now allowed to change.  The differential equation becomes:\n",
    "$$ \\frac{dS}{dt} = -\\frac{S}{\\tau}.$$\n",
    "This equation has solutions of the form:\n",
    "$$S(t) = S_0 e^{-\\frac{t}{\\tau}}.$$\n",
    "Where have we seen this equation before?  What was the significance of $\\tau$?  Convert the $\\tau$ computed above from having units of years to units of days.  "
   ]
  },
  {
   "cell_type": "code",
   "execution_count": 22,
   "metadata": {},
   "outputs": [
    {
     "data": {
      "text/plain": [
       "6.3387033622711897"
      ]
     },
     "execution_count": 22,
     "metadata": {},
     "output_type": "execute_result"
    }
   ],
   "source": [
    "# A lifetime of about a week.  \n",
    "# Very much in line with what we would expect of sulfate in the troposphere.\n",
    "tau * 365  "
   ]
  },
  {
   "cell_type": "markdown",
   "metadata": {},
   "source": [
    "<ol start=\"9\">\n",
    "<li>Test this by adding these additional emissions to the sulfate emissions to RCP8.5's.</li>\n",
    "</ol>"
   ]
  },
  {
   "cell_type": "code",
   "execution_count": 23,
   "metadata": {},
   "outputs": [
    {
     "name": "stdout",
     "output_type": "stream",
     "text": [
      "LOADING: DRIVERS\n",
      "LOADING: PARAMETERS\n",
      "FORMATING\n"
     ]
    }
   ],
   "source": [
    "new = OSCAR(scen_EFF='RCP8.5', scen_ECH4='RCP8.5',\n",
    "         scen_EN2O='RCP8.5', \n",
    "         scen_ESO2=rcp85['ESO2']['Total'][300:] + additional_emissions,\n",
    "         scen_ENH3='RCP8.5', scen_EOC='RCP8.5',\n",
    "         scen_EBC='RCP8.5', scen_Ehalo='RCP8.5',\n",
    "         scen_ENOX='RCP8.5', scen_ECO='RCP8.5',\n",
    "         scen_EVOC='RCP8.5', scen_LULCC='RCP8.5',\n",
    "         scen_RFnat='RCP8.5', scen_RFant='RCP8.5',\n",
    "         scen_HARV='RCP8.5', scen_SHIFT='RCP8.5',\n",
    "         mod_DATAscen='prescribed').run(2100)"
   ]
  },
  {
   "cell_type": "markdown",
   "metadata": {},
   "source": [
    "We find that this overshoots.  Could this be due to feedbacks?"
   ]
  },
  {
   "cell_type": "code",
   "execution_count": 24,
   "metadata": {},
   "outputs": [
    {
     "data": {
      "text/plain": [
       "<matplotlib.text.Text at 0x110778610>"
      ]
     },
     "execution_count": 24,
     "metadata": {},
     "output_type": "execute_result"
    },
    {
     "data": {
      "image/png": "[encoded data removed]",
      "text/plain": [
       "<matplotlib.figure.Figure at 0x10a8b9e90>"
      ]
     },
     "metadata": {},
     "output_type": "display_data"
    }
   ],
   "source": [
    "fig, ax = plt.subplots(1, 1)\n",
    "\n",
    "ax.plot(year, new['D_gst'])\n",
    "ax.set_xlabel('Year')\n",
    "ax.set_ylabel('Deviation in Temperature [K]')"
   ]
  },
  {
   "cell_type": "markdown",
   "metadata": {},
   "source": [
    "<ol start=\"10\">\n",
    "<li>If the aerosols were injected into the stratosphere, where they have a longer lifetime (about 2 years) (Rasch et al. (2008)), how much emissions of sulfate would be required per year?  Note from the equation above, to achieve a certain sulfate burden, $S_{geoengineering}$ one requires $E_{geoengineering} = \\frac{S_{geoengineering}}{\\tau}$ emissions.  Plug in this new value of the lifetime and solve for the emissions.  What is the amount of emissions required per Watt per square meter radiative forcing in this case?</li>\n",
    "</ol>\n",
    "\n",
    "See the following paper for this estimate of the lifetime of sulfate in the stratosphere:\n",
    "\n",
    "Rasch, P. J., Tilmes, S., Turco, R. P., Robock, A., Oman, L., Chen, C.-C. (Jack), … Garcia, R. R. (2008). An overview of geoengineering of climate using stratospheric sulphate aerosols. Philosophical Transactions of the Royal Society of London A: Mathematical, Physical and Engineering Sciences, 366(1882), 4007–4037. https://doi.org/10.1098/rsta.2008.0131\n"
   ]
  },
  {
   "cell_type": "code",
   "execution_count": 35,
   "metadata": {},
   "outputs": [
    {
     "name": "stdout",
     "output_type": "stream",
     "text": [
      "The amount emissions required in the stratosphere would be 5.57 Tg per year\n"
     ]
    }
   ],
   "source": [
    "stratospheric_emissions = additional_burden / 2.\n",
    "print 'The amount emissions required in the stratosphere would be {:0.2f} Tg per year'.format(stratospheric_emissions)"
   ]
  },
  {
   "cell_type": "code",
   "execution_count": 39,
   "metadata": {},
   "outputs": [
    {
     "data": {
      "text/plain": [
       "1.3785728154725529"
      ]
     },
     "execution_count": 39,
     "metadata": {},
     "output_type": "execute_result"
    }
   ],
   "source": [
    "# About 1.38 Mt per yr per Watt per square meter negative forcing.  \n",
    "stratospheric_emissions / -RF"
   ]
  },
  {
   "cell_type": "markdown",
   "metadata": {},
   "source": [
    "From the literature, it is estimated that per Watt per meter squared forcing, one would require about one megaton per year of sulfate injected into the stratosphere (McClellan et al. (2012):\n",
    "\n",
    "> \"Initial estimates of the amount of sulfur as SO2 required to provide 1 W m−2 of solar flux change were approximately 1 Mt of sulfur per year (Robock 2008).\"\n",
    "\n",
    "McClellan, J., Keith, D. W., & Apt, J. (2012). Cost analysis of stratospheric albedo modification delivery systems. Environmental Research Letters, 7(3), 34019. https://doi.org/10.1088/1748-9326/7/3/034019"
   ]
  }
 ],
 "metadata": {
  "kernelspec": {
   "display_name": "Python 2",
   "language": "python",
   "name": "python2"
  },
  "language_info": {
   "codemirror_mode": {
    "name": "ipython",
    "version": 2
   },
   "file_extension": ".py",
   "mimetype": "text/x-python",
   "name": "python",
   "nbconvert_exporter": "python",
   "pygments_lexer": "ipython2",
   "version": "2.7.13"
  }
 },
 "nbformat": 4,
 "nbformat_minor": 2
}
