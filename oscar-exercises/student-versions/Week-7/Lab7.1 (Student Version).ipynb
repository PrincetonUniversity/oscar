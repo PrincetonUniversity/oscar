{
 "cells": [
  {
   "cell_type": "code",
   "execution_count": 1,
   "metadata": {
    "collapsed": true
   },
   "outputs": [],
   "source": [
    "import matplotlib.pyplot as plt\n",
    "import numpy as np\n",
    "\n",
    "from glob import glob\n",
    "\n",
    "from oscar import OSCAR \n",
    "\n",
    "%matplotlib inline"
   ]
  },
  {
   "cell_type": "markdown",
   "metadata": {},
   "source": [
    "<div class=\"alert alert-info\"><h1>Exercise 1: What about RCPs in more complex ESMs?  </h1></div>\n",
    "\n",
    "1. Look at the files in the directory `../DATA/CMIP5`. These files contain the date, the average SST and the SST anomaly referenced to year 2006 for a suite of ESMs and for various scenarios. Note that in CMIP5 scenarios start in 2006.  Open one of the files and see how it is structured.\n",
    "\n",
    "2. One model: choose one of the CMIP5 models for which the 4 RCPs are available. Plot the SST for the 4 scenarios in this model. Are the results consistent with what your know from these 4 scenarios?\n",
    "\n",
    "To avoid writing down all files present in the CMIP5 directory, you should use a for loop that reads and open each \"rcp85\" file, then each \"rcp60\" file etc. Execute the 3 following commands and find a way to make such a loop using the \"glob\" library.  Try printing out the results of the following calls (these will return lists of filenames which you can iterate over):\n",
    "     \n",
    "     from glob import glob\n",
    "     \n",
    "     print(glob(\"../DATA/CMIP5/*.dat\"))\n",
    "     print(glob(\"../DATA/CMIP5/*IPSL*p1.dat\"))"
   ]
  },
  {
   "cell_type": "code",
   "execution_count": null,
   "metadata": {
    "collapsed": true
   },
   "outputs": [],
   "source": []
  },
  {
   "cell_type": "markdown",
   "metadata": {},
   "source": [
    "<ol start=\"3\">\n",
    "<li>One model ensemble: for the IPSL-CM5A-LR model, there are several realisations of the same scenarios. We call this a model ensemble. Plot all realizations of all scenarios for the IPSL model. Why do you think the same model can have different solutions for the same scenarios? Why do you think we perform such ensembles with our ESMs?</li>\n",
    "</ol>"
   ]
  },
  {
   "cell_type": "code",
   "execution_count": null,
   "metadata": {
    "collapsed": true
   },
   "outputs": [],
   "source": []
  },
  {
   "cell_type": "markdown",
   "metadata": {},
   "source": [
    "<ol start=\"4\">\n",
    "<li>Multi-model ensemble: Plot the sea surface temperature obtained with all the available CMIP5 models for all scenarios on the sameplot (use 4 colors, one for each of the 4 scenarios). Plot the SST for each individual CMIP5 models and also the mean of all the models for each scenario (i.e. multi-model mean).</li>\n",
    "<li>Discuss the differences between scenarios and models. Are the results consistent with what you know from these 4 scenarios? Is the warming associated with RCP2.6 systematically lower than the warming obtained with the other scenarios? Why do you think that is?</li>\n",
    "</ol>"
   ]
  },
  {
   "cell_type": "code",
   "execution_count": null,
   "metadata": {
    "collapsed": true
   },
   "outputs": [],
   "source": []
  },
  {
   "cell_type": "markdown",
   "metadata": {},
   "source": [
    "<ol start=\"6\">\n",
    "<li> Run the four RCP scenarios with OSCAR and plot the SST anomaly referenced to year 2006 (i.e. the anomaly should be 0 in 2006 to compare to the CMIP5 ESMs).</li>\n",
    "</ol>"
   ]
  },
  {
   "cell_type": "code",
   "execution_count": null,
   "metadata": {
    "collapsed": true
   },
   "outputs": [],
   "source": []
  },
  {
   "cell_type": "code",
   "execution_count": null,
   "metadata": {
    "collapsed": true
   },
   "outputs": [],
   "source": []
  },
  {
   "cell_type": "markdown",
   "metadata": {},
   "source": [
    "<ol start=\"7\">\n",
    "<li> Plot the SST anomaly similarly to question 5 along with the CMIP5 results (use the for loop). What are similarities and differences between OSCAR, CMIP5 individual models and the multi-model mean of each scenario. Are you surprised that OSCAR manage to capture the beahavior of much more complex models that need months to run on a super computer? Discuss the strengths and limitations of ESMs and OSCAR.</li>\n",
    "</ol>"
   ]
  },
  {
   "cell_type": "code",
   "execution_count": null,
   "metadata": {
    "collapsed": true
   },
   "outputs": [],
   "source": []
  },
  {
   "cell_type": "code",
   "execution_count": null,
   "metadata": {
    "collapsed": true
   },
   "outputs": [],
   "source": []
  }
 ],
 "metadata": {
  "kernelspec": {
   "display_name": "Python 2",
   "language": "python",
   "name": "python2"
  },
  "language_info": {
   "codemirror_mode": {
    "name": "ipython",
    "version": 2
   },
   "file_extension": ".py",
   "mimetype": "text/x-python",
   "name": "python",
   "nbconvert_exporter": "python",
   "pygments_lexer": "ipython2",
   "version": "2.7.13"
  }
 },
 "nbformat": 4,
 "nbformat_minor": 2
}
