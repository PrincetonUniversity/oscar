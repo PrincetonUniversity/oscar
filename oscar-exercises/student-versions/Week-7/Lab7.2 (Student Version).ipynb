{
 "cells": [
  {
   "cell_type": "code",
   "execution_count": 1,
   "metadata": {
    "collapsed": true
   },
   "outputs": [],
   "source": [
    "import matplotlib.pyplot as plt\n",
    "import numpy as np\n",
    "\n",
    "from oscar import OSCAR\n",
    "\n",
    "%matplotlib inline"
   ]
  },
  {
   "cell_type": "markdown",
   "metadata": {},
   "source": [
    "<div class=\"alert alert-info\"><h1>Exercise 1: Solar Geoengineering</h1></div>\n",
    "\n",
    "The most straightforward way to combat climate change is to reduce our carbon emissions; however, given our modern society's dependence on using large amounts of energy, this may be difficult to achieve without rapid adoption (and improvement) of renewable energy technologies. In the event that we are not able to reduce emissions (e.g. if countries do not hold to their Paris agreement commitments), what options do we have to prevent temperatures from rising to dangerous levels?\n",
    "\n",
    "One option is so-called \"solar-geoengineering.\"  There have been multiple proposals that fall under this umbrella, which essentially aims at reducing the amount of solar radiation absorbed by the Earth.  One proposal is to inject large quantities of sulfate aerosols into the stratosphere; since sulfate aerosols are scattering, they reflect some incoming solar radiation back to space (which is a cooling effect).  This cooling effect could be engineered exactly to offset the warming associated with the anthropogenic emission of greenhouse gases.  \n",
    "\n",
    "For the purposes of this exercise, the goal will be to keep warming in 2100 to only 2K above the year 1700 value under the RCP8.5 emissions scenario.  In this exercise we will attempt to determine three things:\n",
    "\n",
    "- The additional (negative) radiative forcing required to keep warming below 2K.\n",
    "- The quantity of emissions of sulfate aerosols into the troposphere that would be required to create this forcing.\n",
    "- The quantity of emissions of sulfate aerosols into the *stratosphere* to achieve the same effect."
   ]
  },
  {
   "cell_type": "markdown",
   "metadata": {},
   "source": [
    "1. Start by running a simulation through year 2100 with the RCP8.5 used for all emissions.  How many degrees do we need to cool things by in 2100 to limit the temperature increase relative to year 1700 to 2K?"
   ]
  },
  {
   "cell_type": "code",
   "execution_count": null,
   "metadata": {
    "collapsed": true
   },
   "outputs": [],
   "source": []
  },
  {
   "cell_type": "code",
   "execution_count": null,
   "metadata": {
    "collapsed": true
   },
   "outputs": [],
   "source": []
  },
  {
   "cell_type": "markdown",
   "metadata": {},
   "source": [
    "<ol start=\"2\">\n",
    "<li>What is the value of a constant radiative forcing added to the simulation required to keep warming to 2K in 2100?  Determine this by running a set of simulations varying the magnitude of a prescribed radiative forcing.  For example estimate the effect of a constant radiative forcing of -3 W/m2 etc. (use `scen_RF` along with [`np.ones`](https://docs.scipy.org/doc/numpy-1.13.0/reference/generated/numpy.ones.html) to prescribe a constant radiative forcing). Plot the temperature difference between the basic RCP8.5 simulation and the RCP8.5 simulation with a prescribed additional radiative forcing in the year 2100 against the radiative forcing applied.  Estimate the quantitative radiative forcing required to cool by exactly the amount required.</li>\n",
    "</ol>"
   ]
  },
  {
   "cell_type": "code",
   "execution_count": null,
   "metadata": {
    "collapsed": true
   },
   "outputs": [],
   "source": []
  },
  {
   "cell_type": "code",
   "execution_count": null,
   "metadata": {
    "collapsed": true
   },
   "outputs": [],
   "source": []
  },
  {
   "cell_type": "code",
   "execution_count": null,
   "metadata": {
    "collapsed": true
   },
   "outputs": [],
   "source": []
  },
  {
   "cell_type": "markdown",
   "metadata": {},
   "source": [
    "<ol start=\"3\">\n",
    "<li>Does this value work?  Test it by providing a constant custom radiative forcing alongside the RCP8.5 scenario using the `scen_RF` argument and an array of ones scaled by the additional radiative forcing calculated above.</li>\n",
    "</ol>"
   ]
  },
  {
   "cell_type": "code",
   "execution_count": null,
   "metadata": {
    "collapsed": true,
    "scrolled": true
   },
   "outputs": [],
   "source": []
  },
  {
   "cell_type": "code",
   "execution_count": null,
   "metadata": {
    "collapsed": true
   },
   "outputs": [],
   "source": []
  },
  {
   "cell_type": "markdown",
   "metadata": {},
   "source": [
    "<ol start=\"4\">\n",
    "<li>Let's focus in on the quantitative climate impact of sulfate aerosols.  To do so we'll construct an experiment to determine the relationship between the burden of sulfate aerosols and the radiative forcing.  With these values, we'll be able to determine burden of sulfate aerosols needed to generate the temperature change at 2100 calculated above.  Create a control simulation with no sulfate emissions past 2000 (note this is not quite the default configuration of `OSCAR`; the default configuration of `OSCAR` has no sulfate emissions past 2010).  **Hint: use the [`np.zeros`](https://docs.scipy.org/doc/numpy-1.13.0/reference/generated/numpy.zeros.html) function to generate an array of zeros to be passed into the `scen_ESO2` argument in the `OSCAR` constructor and use `mod_DATAscen='prescribed'`.**</li>\n",
    "<li>Then create five perturbation simulations, each with constant emissions past 2000: let the first one use 0.5 times the value of sulfate emissions in the control simulation at year 1999, the second use 1.0 times sulfate emissions in 1999, the third use 1.5, the fourth use 2.0, and the fifth use 2.5.  **Hint: use the [`np.ones`](https://docs.scipy.org/doc/numpy-1.13.0/reference/generated/numpy.ones.html) function to create an array of ones, scale that array by the appropriate value for each simulation, pass it to `scen_ESO2` and use `mod_DATAscen='prescribed'`.**</li>\n",
    "</ol>"
   ]
  },
  {
   "cell_type": "code",
   "execution_count": null,
   "metadata": {
    "collapsed": true
   },
   "outputs": [],
   "source": []
  },
  {
   "cell_type": "code",
   "execution_count": null,
   "metadata": {
    "collapsed": true
   },
   "outputs": [],
   "source": []
  },
  {
   "cell_type": "markdown",
   "metadata": {
    "collapsed": true
   },
   "source": [
    "<ol start=\"6\">\n",
    "<li>Plot the difference in radiative forcing of sulfate aerosols (`'RF_SO4'`) between each of the perturbed simulations and the control simulation in year 2100 as a function of the difference in sulfate burden (`'D_SO4'`). What is the approximate slope of a line fitting the points (no need to do linear regression here)?</li>\n",
    "</ol>"
   ]
  },
  {
   "cell_type": "code",
   "execution_count": 11,
   "metadata": {
    "collapsed": true
   },
   "outputs": [],
   "source": []
  },
  {
   "cell_type": "code",
   "execution_count": 12,
   "metadata": {
    "collapsed": true
   },
   "outputs": [],
   "source": []
  },
  {
   "cell_type": "code",
   "execution_count": null,
   "metadata": {
    "collapsed": true
   },
   "outputs": [],
   "source": []
  },
  {
   "cell_type": "markdown",
   "metadata": {},
   "source": [
    "<ol start=\"7\">\n",
    "<li>According to this calculation, what additional burden of sulfate will be needed to generate the radiative forcing calculated in question (2)?</li>\n",
    "</ol>"
   ]
  },
  {
   "cell_type": "code",
   "execution_count": null,
   "metadata": {
    "collapsed": true
   },
   "outputs": [],
   "source": []
  },
  {
   "cell_type": "markdown",
   "metadata": {},
   "source": [
    "<ol start=\"8\">\n",
    "<li>What additional emissions will be needed to achieve this burden?  Determine this by plotting the sulfur dioxide emissions versus sulfate burden in the last year of the perturbed simulations; i.e. assume $S = \\tau E$, where $S$ is the sulfate burden, and $E$ is the emissions of SO2. Find $\\tau$.</li>\n",
    "</ol>"
   ]
  },
  {
   "cell_type": "code",
   "execution_count": null,
   "metadata": {
    "collapsed": true
   },
   "outputs": [],
   "source": []
  },
  {
   "cell_type": "code",
   "execution_count": null,
   "metadata": {
    "collapsed": true
   },
   "outputs": [],
   "source": []
  },
  {
   "cell_type": "markdown",
   "metadata": {},
   "source": [
    "<ol start=\"9\">\n",
    "<li>What is the significance of the slope of the line fitting the sulfur dioxide emissions to sulfate burden (i.e. $\\tau$)? Consider the units of S and E and deduce the units of $\\tau$. </li>\n",
    "</ol>"
   ]
  },
  {
   "cell_type": "code",
   "execution_count": null,
   "metadata": {
    "collapsed": true
   },
   "outputs": [],
   "source": []
  },
  {
   "cell_type": "markdown",
   "metadata": {},
   "source": [
    "<ol start=\"10\">\n",
    "<li>Test the impact of adding these additional sulfate emissions to the RCP8.5's sulfate emissions. </li>\n",
    "</ol>"
   ]
  },
  {
   "cell_type": "code",
   "execution_count": null,
   "metadata": {
    "collapsed": true
   },
   "outputs": [],
   "source": []
  },
  {
   "cell_type": "markdown",
   "metadata": {},
   "source": [
    "Is the temperature response what you expected? Why do you think that the cooling is larger than we engineered?  \n"
   ]
  },
  {
   "cell_type": "code",
   "execution_count": null,
   "metadata": {
    "collapsed": true
   },
   "outputs": [],
   "source": []
  },
  {
   "cell_type": "markdown",
   "metadata": {},
   "source": [
    "<ol start=\"11\">\n",
    "<li>If the aerosols were injected into the stratosphere, where they have a longer lifetime (about 2 years) (Rasch et al. (2008)), how much emissions of sulfate would be required per year?  Note that to achieve a certain sulfate burden, $S_{geoengineering}$ one requires $E_{geoengineering} = \\frac{S_{geoengineering}}{\\tau}$ emissions (see questions 8 and 9 and complementary information at the end of notebook).  Plug in this new value of the lifetime and solve for the emissions.  \n",
    "\n",
    "What is the amount of emissions required per Watt per square meter radiative forcing in this case? Compare the efficiency of tropospheric sulfate vs. stratospheric sulfate in cooling the planet. Discuss other implications associated with the use of stratospheric and tropospheric aerosols.</li>\n",
    "</ol>\n",
    "\n",
    "Rasch, P. J., Tilmes, S., Turco, R. P., Robock, A., Oman, L., Chen, C.-C. (Jack), … Garcia, R. R. (2008). An overview of geoengineering of climate using stratospheric sulphate aerosols. Philosophical Transactions of the Royal Society of London A: Mathematical, Physical and Engineering Sciences, 366(1882), 4007–4037. https://doi.org/10.1098/rsta.2008.0131\n"
   ]
  },
  {
   "cell_type": "code",
   "execution_count": null,
   "metadata": {
    "collapsed": true
   },
   "outputs": [],
   "source": []
  },
  {
   "cell_type": "code",
   "execution_count": null,
   "metadata": {
    "collapsed": true
   },
   "outputs": [],
   "source": []
  },
  {
   "cell_type": "markdown",
   "metadata": {},
   "source": [
    "<ol start=\"12\">\n",
    "<li>\n",
    "\n",
    "From the literature, it is estimated that per Watt per meter squared forcing, one would require about one megaton per year of sulfate injected into the stratosphere (McClellan et al. (2012):</li>\n",
    "</ol>\n",
    "\n",
    "> \"Initial estimates of the amount of sulfur as SO2 required to provide 1 W m−2 of solar flux change were approximately 1 Mt of sulfur per year (Robock 2008).\"\n",
    "\n",
    "Are your results consistent with what has been published previously?  \n",
    "\n",
    "McClellan, J., Keith, D. W., & Apt, J. (2012). Cost analysis of stratospheric albedo modification delivery systems. Environmental Research Letters, 7(3), 34019. https://doi.org/10.1088/1748-9326/7/3/034019"
   ]
  },
  {
   "cell_type": "markdown",
   "metadata": {},
   "source": [
    "### ==================================================\n",
    "\n",
    "#### Complementary information on the significance of $\\tau$ (question 9)\n",
    "\n",
    "Note that the the realtionship between S and E stems from the budget for the burden of sulfate in the atmosphere:\n",
    "$$\\frac{dS}{dt} \\approx E - \\frac{S}{\\tau}$$\n",
    "Here $S$ is the burden, and $E$ is the emissions.  In steady state (i.e. when the sulfate burden is not changing in the atmosphere, as it is at the end of the perturbed simulations) the time derivative is zero.  Therefore:\n",
    "$$0 = E - \\frac{S}{\\tau} \\implies E = \\frac{S}{\\tau} \\implies \\tau = \\frac{S}{E}.$$\n",
    "This is the slope of the line we computed above.\n",
    "\n",
    "Now, consider the case where emissions are zero ($E = 0$), but the burden is now allowed to change.  The differential equation becomes:\n",
    "$$ \\frac{dS}{dt} = -\\frac{S}{\\tau}.$$\n",
    "This equation has solutions of the form:\n",
    "$$S(t) = S_0 e^{-\\frac{t}{\\tau}}.$$\n"
   ]
  },
  {
   "cell_type": "code",
   "execution_count": null,
   "metadata": {
    "collapsed": true
   },
   "outputs": [],
   "source": []
  }
 ],
 "metadata": {
  "kernelspec": {
   "display_name": "Python 2",
   "language": "python",
   "name": "python2"
  },
  "language_info": {
   "codemirror_mode": {
    "name": "ipython",
    "version": 2
   },
   "file_extension": ".py",
   "mimetype": "text/x-python",
   "name": "python",
   "nbconvert_exporter": "python",
   "pygments_lexer": "ipython2",
   "version": "2.7.13"
  }
 },
 "nbformat": 4,
 "nbformat_minor": 2
}
