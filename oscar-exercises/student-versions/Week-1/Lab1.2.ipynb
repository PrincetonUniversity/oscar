{
 "cells": [
  {
   "cell_type": "markdown",
   "metadata": {},
   "source": [
    "<div class=\"alert alert-info\"><h1>Exercise 4: Evaluate the potential impact of fossil fuel emissions on atmospheric CO2</h1></div>"
   ]
  },
  {
   "cell_type": "markdown",
   "metadata": {},
   "source": [
    "- (a) Read Mauna Loa atmopsheric CO2 data (in ppm). What are ppm units?"
   ]
  },
  {
   "cell_type": "code",
   "execution_count": null,
   "metadata": {
    "collapsed": true
   },
   "outputs": [],
   "source": []
  },
  {
   "cell_type": "markdown",
   "metadata": {},
   "source": [
    "- (b) Read fossil fuel emissions from file: 'GlobalCarbonProject_2016v1.0_FF.csv' (in PgC/y). What are Peta grams per year?"
   ]
  },
  {
   "cell_type": "code",
   "execution_count": null,
   "metadata": {
    "collapsed": true
   },
   "outputs": [],
   "source": []
  },
  {
   "cell_type": "markdown",
   "metadata": {},
   "source": [
    "- (c) Compute how much CO2 would accumulate in the atmosphere if all fossil fuel emissions were staying in the atmosphere. Note: this is essentially converting emissions (in PgC/y) to atmospehric CO2 concentration (in ppm). \n",
    "- Notes: \n",
    "    - The amount of CO2 potentially in the atmosphere after 50 years is the cumulated amount emitted over this time frame\n",
    "    - What is the molar mass of carbon? (= how much does 1 mole of C weigh?)\n",
    "    - There are 1.7773e20 moles of air in the atmosphere."
   ]
  },
  {
   "cell_type": "code",
   "execution_count": null,
   "metadata": {
    "collapsed": true
   },
   "outputs": [],
   "source": []
  },
  {
   "cell_type": "markdown",
   "metadata": {},
   "source": [
    "- (d) Plot observed CO2 data and cumulated emissions on the same plot. Discuss the result."
   ]
  },
  {
   "cell_type": "code",
   "execution_count": null,
   "metadata": {
    "collapsed": true
   },
   "outputs": [],
   "source": []
  },
  {
   "cell_type": "markdown",
   "metadata": {},
   "source": [
    "- (e) Plot the impact of emissions on atmospheric CO2 if only 40%, 50% and 60% of the emissions actually stayed in the atmosphere. Also try 57%."
   ]
  },
  {
   "cell_type": "code",
   "execution_count": null,
   "metadata": {
    "collapsed": true
   },
   "outputs": [],
   "source": []
  }
 ],
 "metadata": {
  "kernelspec": {
   "display_name": "Python 2",
   "language": "python",
   "name": "python2"
  },
  "language_info": {
   "codemirror_mode": {
    "name": "ipython",
    "version": 2
   },
   "file_extension": ".py",
   "mimetype": "text/x-python",
   "name": "python",
   "nbconvert_exporter": "python",
   "pygments_lexer": "ipython2",
   "version": "2.7.13"
  }
 },
 "nbformat": 4,
 "nbformat_minor": 1
}
