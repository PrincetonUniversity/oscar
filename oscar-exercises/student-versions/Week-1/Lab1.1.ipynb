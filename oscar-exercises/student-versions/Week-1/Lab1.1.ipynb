{
 "cells": [
  {
   "cell_type": "markdown",
   "metadata": {},
   "source": [
    "# Introduction to Python and the Jupyter Notebook Environment\n",
    "\n",
    "\n",
    "_You are looking at [Jupyter Notebook](http://jupyter-notebook.readthedocs.io/en/latest/notebook.html)_.  A Jupyter notebook (formerly known as an iPython notebook) is a lightweight environment for describing and running blocks of code in a [variety of languages](https://github.com/jupyter/jupyter/wiki/Jupyter-kernels).  Over the last few years, it has become a popular tool in the scientific community for its use in data analysis and exploration.  Throughout this course we'll be using notebooks to look at data both from observations and numerical models.\n",
    "\n",
    "\n"
   ]
  },
  {
   "cell_type": "markdown",
   "metadata": {
    "collapsed": true
   },
   "source": [
    "----------\n",
    "## 1. Cell types\n",
    "A key feature of Jupyter notebooks is that they support different cell types.  A \"cell\" in a Jupyter notebook is a field in which one can enter text.  To enter text in a cell, one simply needs to click inside it to make it active.  There are two types of cells:\n",
    "\n",
    "1. Markdown cells (like this cell itself)\n",
    "2. Code cells."
   ]
  },
  {
   "cell_type": "markdown",
   "metadata": {},
   "source": [
    "### Markdown cells\n",
    "Markdown cells are meant for displaying text.  Markdown is a way of indicating basic formatting aspects in plain text form.  [A full description of its syntax (with examples) can be found here.](https://daringfireball.net/projects/markdown/syntax) You can also double click on any Markdown cell in this notebook to see the text that produced it.  \n",
    "\n",
    "To create a Markdown cell it's easiest to select a cell and change it to a Markdown cell by selecting Cell -> Cell Type -> Markdown in the Jupyter notebook menu bar.  Things Markdown supports are multi-level headings, bulleted and numbered lists, links, images, and font styles (e.g. **bold** or *italic*).  Jupyter notebooks also include MathJax support, so you can type LaTeX-style equations.  E.g. \n",
    "$$y = mx + b$$\n",
    "In practice, it can often be helpful to use Markdown cells to provide background for the data analysis you are doing (e.g. to provide links to scientific papers, or describe the math behind a certain kind of analysis)."
   ]
  },
  {
   "cell_type": "markdown",
   "metadata": {},
   "source": [
    "### Code cells\n",
    "Code cells are what make the Jupyter notebook a powerful data analysis tool.  They enable one to write multi-line snippets of code, which can be executed one at a time, and in any order.  To run the active code cell (i.e. the one you are typing in) you hold down the Shift key and then type Enter.\n",
    "\n",
    "After running a cell, the variables created in the cell will now be accessible to all other cells in the notebook."
   ]
  },
  {
   "cell_type": "code",
   "execution_count": 1,
   "metadata": {},
   "outputs": [
    {
     "name": "stdout",
     "output_type": "stream",
     "text": [
      "Hello world!\n"
     ]
    }
   ],
   "source": [
    "print 'Hello world!'"
   ]
  },
  {
   "cell_type": "markdown",
   "metadata": {},
   "source": [
    "## 2. Python basics\n",
    "\n",
    "Python is a dynamically typed language; therefore it is very straightforward to assign data to a variable (there is no need to specify the data type)."
   ]
  },
  {
   "cell_type": "code",
   "execution_count": null,
   "metadata": {
    "collapsed": true
   },
   "outputs": [],
   "source": []
  },
  {
   "cell_type": "markdown",
   "metadata": {},
   "source": [
    "Here we'll note that after executing the cell above, all other cells now have access to the variables \"a\" and \"b.\""
   ]
  },
  {
   "cell_type": "code",
   "execution_count": null,
   "metadata": {
    "collapsed": true
   },
   "outputs": [],
   "source": []
  },
  {
   "cell_type": "markdown",
   "metadata": {},
   "source": [
    "## Data structures\n",
    "Some fundamental Python data structures that will be of use to us in this course are:\n",
    "\n",
    "- Lists\n",
    "- Dicts\n",
    "- `numpy` arrays"
   ]
  },
  {
   "cell_type": "markdown",
   "metadata": {},
   "source": [
    "### Lists\n",
    "Lists store sequences of objects.  The objects need not be of the same type (but often they will be).  See the following two examples of lists below."
   ]
  },
  {
   "cell_type": "code",
   "execution_count": null,
   "metadata": {
    "collapsed": true
   },
   "outputs": [],
   "source": []
  },
  {
   "cell_type": "markdown",
   "metadata": {},
   "source": [
    "One can iterate over items in a list using a `for` loop:"
   ]
  },
  {
   "cell_type": "code",
   "execution_count": null,
   "metadata": {
    "collapsed": true
   },
   "outputs": [],
   "source": []
  },
  {
   "cell_type": "markdown",
   "metadata": {},
   "source": [
    "One can also access specific elements of a list using integer indexes (note that Python is \"zero-indexed\" meaning that the first element of the list is at index 0.)"
   ]
  },
  {
   "cell_type": "code",
   "execution_count": null,
   "metadata": {
    "collapsed": true
   },
   "outputs": [],
   "source": []
  },
  {
   "cell_type": "code",
   "execution_count": null,
   "metadata": {
    "collapsed": true
   },
   "outputs": [],
   "source": []
  },
  {
   "cell_type": "code",
   "execution_count": null,
   "metadata": {
    "collapsed": true
   },
   "outputs": [],
   "source": []
  },
  {
   "cell_type": "code",
   "execution_count": null,
   "metadata": {
    "collapsed": true
   },
   "outputs": [],
   "source": []
  },
  {
   "cell_type": "code",
   "execution_count": null,
   "metadata": {
    "collapsed": true
   },
   "outputs": [],
   "source": []
  },
  {
   "cell_type": "markdown",
   "metadata": {},
   "source": [
    "An alternative way of iterating over the list using a `for` loop would be using an integer index and `range`."
   ]
  },
  {
   "cell_type": "code",
   "execution_count": null,
   "metadata": {
    "collapsed": true
   },
   "outputs": [],
   "source": []
  },
  {
   "cell_type": "markdown",
   "metadata": {},
   "source": [
    "---------------\n",
    "\n",
    "<div class=\"alert alert-info\"><h1>Exercise 1</h1></div>\n",
    "\n",
    "+ Create a cell below \n",
    "+ Display the first 2 elements of `list_a`\n"
   ]
  },
  {
   "cell_type": "code",
   "execution_count": null,
   "metadata": {
    "collapsed": true
   },
   "outputs": [],
   "source": []
  },
  {
   "cell_type": "markdown",
   "metadata": {},
   "source": [
    "----------\n",
    "\n",
    "Also one can assign values to elements of a list:"
   ]
  },
  {
   "cell_type": "code",
   "execution_count": null,
   "metadata": {
    "collapsed": true
   },
   "outputs": [],
   "source": []
  },
  {
   "cell_type": "markdown",
   "metadata": {},
   "source": [
    "Other operations one can do with lists can be found in the [Python documentation](https://docs.python.org/3/tutorial/datastructures.html)."
   ]
  },
  {
   "cell_type": "markdown",
   "metadata": {},
   "source": [
    "### Dicts\n",
    "\"Dicts\" or \"Dictionaries\" map a key to a value.  One use case is to describe a collection of related objects with string-based keys.  For example:"
   ]
  },
  {
   "cell_type": "code",
   "execution_count": null,
   "metadata": {
    "collapsed": true
   },
   "outputs": [],
   "source": []
  },
  {
   "cell_type": "markdown",
   "metadata": {},
   "source": [
    "In this case, it is a little more transparent which value one will be accessing (i.e. there is no need for an opaque integer index)."
   ]
  },
  {
   "cell_type": "code",
   "execution_count": null,
   "metadata": {
    "collapsed": true
   },
   "outputs": [],
   "source": []
  },
  {
   "cell_type": "markdown",
   "metadata": {},
   "source": [
    "Again one can find more information on Python dictionaries in the [documentation](https://docs.python.org/3/tutorial/datastructures.html?highlight=dictionaries#dictionaries)."
   ]
  },
  {
   "cell_type": "markdown",
   "metadata": {},
   "source": [
    "### `NumPy` and `NumPy` arrays\n",
    "`NumPy` is a standard package for scientific computing with Python. It contains among other things:\n",
    "\n",
    "- `NumPy` arrays that can be used to store N-dimensional tables.\n",
    "- Functions and useful linear algebra\n",
    "\n",
    "`NumPy` is not built into the default namespace of Python; therefore we need to import it using an import statement."
   ]
  },
  {
   "cell_type": "code",
   "execution_count": null,
   "metadata": {
    "collapsed": true
   },
   "outputs": [],
   "source": []
  },
  {
   "cell_type": "markdown",
   "metadata": {},
   "source": [
    "To create a simple 2D numpy array, we can use a nested list:"
   ]
  },
  {
   "cell_type": "code",
   "execution_count": null,
   "metadata": {
    "collapsed": true
   },
   "outputs": [],
   "source": []
  },
  {
   "cell_type": "markdown",
   "metadata": {},
   "source": [
    "This array consists of two rows and three columns:"
   ]
  },
  {
   "cell_type": "code",
   "execution_count": null,
   "metadata": {
    "collapsed": true
   },
   "outputs": [],
   "source": []
  },
  {
   "cell_type": "markdown",
   "metadata": {},
   "source": [
    "Analogously to the 1D list, we can index a 2D array using integer indexes:"
   ]
  },
  {
   "cell_type": "code",
   "execution_count": null,
   "metadata": {
    "collapsed": true
   },
   "outputs": [],
   "source": []
  },
  {
   "cell_type": "markdown",
   "metadata": {},
   "source": [
    "You can use slices to index rows and columns separately; for instance if we wanted to select just the first two columns of the array we could write:"
   ]
  },
  {
   "cell_type": "code",
   "execution_count": null,
   "metadata": {
    "collapsed": true
   },
   "outputs": [],
   "source": []
  },
  {
   "cell_type": "markdown",
   "metadata": {},
   "source": [
    "Many `numpy` functions can be passed an \"axis\" argument; this specifies a particular axis of the array to execute the function along.  For example, using our 2D array, we can sum along each axis:"
   ]
  },
  {
   "cell_type": "code",
   "execution_count": null,
   "metadata": {
    "collapsed": true
   },
   "outputs": [],
   "source": []
  },
  {
   "cell_type": "code",
   "execution_count": null,
   "metadata": {
    "collapsed": true
   },
   "outputs": [],
   "source": []
  },
  {
   "cell_type": "markdown",
   "metadata": {},
   "source": [
    "We can also use the function linspace, which linearly interpolates values between the specified starting and end points. We can also sum all the elements of x using sum."
   ]
  },
  {
   "cell_type": "code",
   "execution_count": null,
   "metadata": {
    "collapsed": true
   },
   "outputs": [],
   "source": []
  },
  {
   "cell_type": "markdown",
   "metadata": {},
   "source": [
    "Lastly, we can create an empty array of zeros by using the `np.zeros` command (say if we wanted to create a blank one to assign values to later)."
   ]
  },
  {
   "cell_type": "code",
   "execution_count": null,
   "metadata": {
    "collapsed": true
   },
   "outputs": [],
   "source": []
  },
  {
   "cell_type": "markdown",
   "metadata": {},
   "source": [
    "The `numpy` library implements a huge number of functions that one can use on arrays.  We'll get a taste for a few of them later on, but more detail can be found in the [`numpy` documentation](https://docs.scipy.org/doc/numpy-1.12.0/reference/)."
   ]
  },
  {
   "cell_type": "markdown",
   "metadata": {},
   "source": [
    "-----------\n",
    "\n",
    "<div class=\"alert alert-info\"><h1>Exercise 2</h1></div>\n",
    "\n",
    "+ Create an array called x of 200 equally spaced values between 0 and 12.\n",
    "+ Using a for loop and the sum function, compute the cumulative sum of x (i.e. an array of same dimension as x in which the nth element is the sum of the first n elements of x). \n",
    "\n",
    "On a smaller array as an example, if `x` were `[1, 2, 3, 4]`, we would want an array that looked like `[1, 3, 6, 10]`."
   ]
  },
  {
   "cell_type": "code",
   "execution_count": null,
   "metadata": {
    "collapsed": true
   },
   "outputs": [],
   "source": []
  },
  {
   "cell_type": "markdown",
   "metadata": {},
   "source": [
    "----------\n",
    "\n",
    "Finally, `numpy` contains a function for loading in data from a text file.  This function is called [`np.loadtxt`](https://docs.scipy.org/doc/numpy/reference/generated/numpy.loadtxt.html).  One common way to store data is in CSV (comma separated value) format.  What this means is that in a text file, datapoints are stored in columns separated by commas (or more generally some \"delimiter\").\n",
    "\n",
    "For example if we had a text file whose contents looked like:\n",
    "```\n",
    "a, b, c\n",
    "1, 1, 2\n",
    "3, 4, 5\n",
    "```\n",
    "and was called `example.csv`, we could load it into `numpy` with the following command:\n",
    "```\n",
    "arr = np.loadtxt('example.csv', delimiter=',', skiprows=1)\n",
    "```\n",
    "Now the array (`arr`) will look like:\n",
    "```\n",
    "[[1, 1, 2],\n",
    "[3, 4, 5]]\n",
    "```\n",
    "We have used the `delimiter` argument to `np.loadtxt` to specify that the datapoints are separated using commas, and have used the `skiprows` argument to specify that we wish to ignore the first row (which contains the column labels, and not the datapoints themselves)."
   ]
  },
  {
   "cell_type": "code",
   "execution_count": null,
   "metadata": {
    "collapsed": true
   },
   "outputs": [],
   "source": []
  },
  {
   "cell_type": "markdown",
   "metadata": {},
   "source": [
    "\n",
    "## 3. Plotting a time series\n",
    "Here we will introduce some more applications-driven examples.  Plotting in Python is typically done using the [`matplotlib`](https://matplotlib.org) library.  Again `matplotlib` is not part of the Python standard library so we will have to import it.  In addition, if we want to view figures produced by `matplotlib` in the Jupyter notebook, we need to add another command."
   ]
  },
  {
   "cell_type": "code",
   "execution_count": null,
   "metadata": {
    "collapsed": true
   },
   "outputs": [],
   "source": []
  },
  {
   "cell_type": "markdown",
   "metadata": {},
   "source": [
    "As a basic example, we'll plot a family of sine curves using `matplotlib` to illustrate the basics of making a plot.  We'll plot:\n",
    "$$ y = \\sin(t - a) $$\n",
    "and vary the value of $a$.  First we'll create some values for $t$.  To do so, we'll use the `linspace` command, which linearly interpolates values between the specified beginning and end points."
   ]
  },
  {
   "cell_type": "markdown",
   "metadata": {},
   "source": [
    "To create an environment in which we can make a plot, we'll use the [`plt.subplots`](https://matplotlib.org/api/pyplot_api.html?highlight=subplots#matplotlib.pyplot.subplots) command.  This returns a [`Figure`](https://matplotlib.org/api/figure_api.html?highlight=figure#module-matplotlib.figure) object and single [`Axes`](https://matplotlib.org/api/axes_api.html#matplotlib.axes.Axes) object or list of `Axes` objects, depending on the two input arguments.  The first input argument is the number of rows of `Axes` and the second is the number of columns (so 2, 2 would represent four `Axes` objects).\n",
    "\n",
    "Below is a simple example of a single panel plot.  To plot a line we will use the [`plot`](https://matplotlib.org/api/_as_gen/matplotlib.axes.Axes.plot.html?highlight=plot#matplotlib.axes.Axes.plot) command."
   ]
  },
  {
   "cell_type": "code",
   "execution_count": null,
   "metadata": {
    "collapsed": true
   },
   "outputs": [],
   "source": []
  },
  {
   "cell_type": "markdown",
   "metadata": {},
   "source": [
    "This is an example of a two-panel plot."
   ]
  },
  {
   "cell_type": "code",
   "execution_count": null,
   "metadata": {
    "collapsed": true
   },
   "outputs": [],
   "source": [
    "fig, axes = plt.subplots(1, 2)\n",
    "fig.set_size_inches(8, 3)\n",
    "y = np.sin(t)\n",
    "\n",
    "for ax in axes:\n",
    "    ax.plot(t, y)\n",
    "    ax.set_xlim([-2. * np.pi, 2. * np.pi])\n",
    "    ax.set_ylim([-1.25, 1.25])\n",
    "    ax.set_xlabel('time')\n",
    "    ax.set_ylabel('y')\n",
    "    ax.set_title('Title')"
   ]
  },
  {
   "cell_type": "markdown",
   "metadata": {},
   "source": [
    "Adding a [legend](https://matplotlib.org/api/_as_gen/matplotlib.axes.Axes.legend.html?highlight=ax%20legend#matplotlib.axes.Axes.legend) requires setting a label in your plot command."
   ]
  },
  {
   "cell_type": "code",
   "execution_count": null,
   "metadata": {
    "collapsed": true
   },
   "outputs": [],
   "source": [
    "fig, ax = plt.subplots(1, 1)\n",
    "a_values = np.array([1, 2, 3, 4]) / np.pi\n",
    "\n",
    "for a in a_values:\n",
    "    y = np.sin(t - a)\n",
    "    ax.plot(t, y, label='a = {:0.2f}'.format(a))\n",
    "\n",
    "ax.set_xlim([-2. * np.pi, 2. * np.pi])\n",
    "ax.set_ylim([-1.75, 1.75])\n",
    "ax.set_xlabel('time')\n",
    "ax.set_ylabel('y')\n",
    "ax.set_title('Title')\n",
    "ax.legend(loc='upper right', ncol=2, frameon=False)"
   ]
  },
  {
   "cell_type": "markdown",
   "metadata": {},
   "source": [
    "<div class=\"alert alert-info\"><h1>Exercise 3</h1></div>\n",
    "\n",
    "- Use `np.loadtxt` load the monthly time series of carbon dioxide as measured at the Mauna Loa Observatory in Hawaii from the file `'monthly_in_situ_co2_mauna_loa.csv'`\n",
    "- Plot the time series of CO2 in [ppm] as a function of date. "
   ]
  },
  {
   "cell_type": "code",
   "execution_count": null,
   "metadata": {
    "collapsed": true
   },
   "outputs": [],
   "source": []
  }
 ],
 "metadata": {
  "kernelspec": {
   "display_name": "Python 2",
   "language": "python",
   "name": "python2"
  },
  "language_info": {
   "codemirror_mode": {
    "name": "ipython",
    "version": 2
   },
   "file_extension": ".py",
   "mimetype": "text/x-python",
   "name": "python",
   "nbconvert_exporter": "python",
   "pygments_lexer": "ipython2",
   "version": "2.7.13"
  }
 },
 "nbformat": 4,
 "nbformat_minor": 2
}
