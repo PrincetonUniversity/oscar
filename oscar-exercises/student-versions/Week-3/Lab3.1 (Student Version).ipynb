{
 "cells": [
  {
   "cell_type": "markdown",
   "metadata": {},
   "source": [
    "# Lab 3.1: Atmosphere & GHG\n"
   ]
  },
  {
   "cell_type": "code",
   "execution_count": 2,
   "metadata": {
    "collapsed": true
   },
   "outputs": [],
   "source": [
    "import matplotlib.pyplot as plt\n",
    "import numpy as np\n",
    "\n",
    "from oscar import OSCAR\n",
    "\n",
    "%matplotlib inline"
   ]
  },
  {
   "cell_type": "markdown",
   "metadata": {},
   "source": [
    "<div class=\"alert alert-info\"><h1>Exercise 1: Radiative Forcing and Warming Efficiency</h1></div>"
   ]
  },
  {
   "cell_type": "markdown",
   "metadata": {},
   "source": [
    "<ol start=\"1\">\n",
    "    <li>Run the model using the emissions scenario `'RCP8.5'` for all constituents through year 2010.</li>\n",
    "</ol>"
   ]
  },
  {
   "cell_type": "code",
   "execution_count": null,
   "metadata": {
    "collapsed": true
   },
   "outputs": [],
   "source": []
  },
  {
   "cell_type": "markdown",
   "metadata": {},
   "source": [
    "<ol start=\"2\">\n",
    "    <li>Plot the temporal evolution of the emissions of CO2 (EFF), CH4 (ECH4), N2O (EN2O) and Halocarbon (Ehalo = EHFC + EPFC + EODS). Note that CO2 emissions are in Gt/y, CH4 and N2O emissions are in Mt/y, Halocarbon emissions are in kt/y  (see [online documentation](http://www.princeton.edu/~skclark/oscar/outputs.html#emissions)). Discuss the changes in Halocarbons at the end of the 20th century.</li>\n",
    "</ol>"
   ]
  },
  {
   "cell_type": "code",
   "execution_count": null,
   "metadata": {
    "collapsed": true
   },
   "outputs": [],
   "source": []
  },
  {
   "cell_type": "markdown",
   "metadata": {},
   "source": [
    "<ol start=\"3\">\n",
    "    <li>Plot the radiative forcing time-series for these four compounds. What is the radiative forcing of each compound in 2010?</li>\n",
    "</ol>"
   ]
  },
  {
   "cell_type": "code",
   "execution_count": null,
   "metadata": {
    "collapsed": true
   },
   "outputs": [],
   "source": []
  },
  {
   "cell_type": "markdown",
   "metadata": {},
   "source": [
    "<ol start=\"4\">\n",
    "    <li>Compute the radiative forcing in 2010 relative to the amount of gas emitted over the period 1700 to 2010 for each of the four compounds (in W/m2/Gt). Note: You need to sum the emissions over all years between 1700 and 2010 and to convert all emissions to Gt of compound. For CO2: 1 GtC = 44/12 Gt CO2; for CH4: 1 Mt C = 16/12 x 1e-3 Gt CH4; for N2O: 1 MtN = 44/14 x 1e-3 Gt N2O and for Halocarbons: 1 kt Halo = 1e-6 Gt halo. </li>\n",
    "</ol>"
   ]
  },
  {
   "cell_type": "code",
   "execution_count": null,
   "metadata": {
    "collapsed": true
   },
   "outputs": [],
   "source": []
  },
  {
   "cell_type": "markdown",
   "metadata": {},
   "source": [
    "-----"
   ]
  },
  {
   "cell_type": "markdown",
   "metadata": {},
   "source": [
    "Running with custom emissions\n",
    "================\n",
    "\n",
    "To conduct unique experiments, it is useful to be able to customize emissions.  In the following exercise we will do so.  For documentation and examples of doing this, see: http://www.princeton.edu/~skclark/oscar/custom_scens.html"
   ]
  },
  {
   "cell_type": "markdown",
   "metadata": {},
   "source": [
    "<div class=\"alert alert-info\"><h1>Exercise 2: Vegetarian planet</h1></div>"
   ]
  },
  {
   "cell_type": "markdown",
   "metadata": {},
   "source": [
    "1. Start by making a run of the model using the business as usual RCP8.5 scenario through year 2100.  This will serve as a reference."
   ]
  },
  {
   "cell_type": "code",
   "execution_count": null,
   "metadata": {
    "collapsed": true
   },
   "outputs": [],
   "source": []
  },
  {
   "cell_type": "markdown",
   "metadata": {},
   "source": [
    "<ol start=\"2\">\n",
    "    <li>Knowing that ~1/3 of methane anthropogenic emissions come from ruminants, design an experiment to estimate the impact of turning the humans vegetarian (essentially scale the RCP8.5 scenario's emissions by 2/3). Note: you can only modify emissions from 2000 (index 300) onwards.  Use the configuration parameter `mod_DATAscen='raw'` and specify emissions for all constituents which allow custom emissions (see the [documentation](http://www.princeton.edu/~skclark/oscar/custom_scens.html) for a list of those).</li>\n",
    "</ol>"
   ]
  },
  {
   "cell_type": "code",
   "execution_count": null,
   "metadata": {
    "collapsed": true
   },
   "outputs": [],
   "source": []
  },
  {
   "cell_type": "code",
   "execution_count": null,
   "metadata": {
    "collapsed": true
   },
   "outputs": [],
   "source": []
  },
  {
   "cell_type": "markdown",
   "metadata": {},
   "source": [
    "<ol start=\"3\">\n",
    "    <li>Plot CH4 emissions and atmospheric concentrations in both cases.</li>\n",
    "    <li>Compare the temperature in the 2 simulations. What is the temperature difference in 2100?</li>\n",
    "</ol>"
   ]
  },
  {
   "cell_type": "code",
   "execution_count": null,
   "metadata": {
    "collapsed": true
   },
   "outputs": [],
   "source": []
  },
  {
   "cell_type": "code",
   "execution_count": null,
   "metadata": {
    "collapsed": true
   },
   "outputs": [],
   "source": []
  },
  {
   "cell_type": "markdown",
   "metadata": {},
   "source": [
    "Discussion\n",
    "----------\n",
    "\n",
    "- Source Data: Global Carbon Project and Global Methane Project: http://www.globalcarbonproject.org/methanebudget/16/data.htm\n",
    "- Further reading: Herrero, M., Henderson, B., Havlík, P., Thornton, P.K., Conant, R.T., Smith, P., Wirsenius, S., Hristov, A.N., Gerber, P., Gill, M., Butterbach-Bahl, K., Valin, H., Garnett, T., Stehfest, E., 2016. Greenhouse gas mitigation potentials in the livestock sector. Nature Clim. Change 6, 452–461. doi:10.1038/nclimate2925"
   ]
  }
 ],
 "metadata": {
  "kernelspec": {
   "display_name": "Python 2",
   "language": "python",
   "name": "python2"
  },
  "language_info": {
   "codemirror_mode": {
    "name": "ipython",
    "version": 2
   },
   "file_extension": ".py",
   "mimetype": "text/x-python",
   "name": "python",
   "nbconvert_exporter": "python",
   "pygments_lexer": "ipython2",
   "version": "2.7.13"
  }
 },
 "nbformat": 4,
 "nbformat_minor": 2
}
