{
 "cells": [
  {
   "cell_type": "code",
   "execution_count": 1,
   "metadata": {
    "collapsed": true
   },
   "outputs": [],
   "source": [
    "import matplotlib.pyplot as plt\n",
    "import numpy as np\n",
    "\n",
    "from oscar import OSCAR\n",
    "\n",
    "%matplotlib inline"
   ]
  },
  {
   "cell_type": "markdown",
   "metadata": {},
   "source": [
    "<div class=\"alert alert-info\"><h1>Exercise 1: Climate impacts of black carbon aerosols</h1></div>"
   ]
  },
  {
   "cell_type": "markdown",
   "metadata": {},
   "source": [
    "1. Run a reference simulation under the business as usual RCP8.5 scenario through 2100 for all emissions.  Plot the time series of anthropogenic emissions of black carbon ('EBC').  What happens after year 2010 and into the future?  Why?\n",
    "2. Plot the time series of black carbon burden (i.e. total mass of black carbon) in the atmosphere as a function of time.  What does it mean if anthropogenic black carbon emissions are decreasing, but the black carbon burden is increasing?"
   ]
  },
  {
   "cell_type": "code",
   "execution_count": null,
   "metadata": {},
   "outputs": [],
   "source": []
  },
  {
   "cell_type": "code",
   "execution_count": null,
   "metadata": {},
   "outputs": [],
   "source": []
  },
  {
   "cell_type": "markdown",
   "metadata": {},
   "source": [
    "<ol start=\"2\">\n",
    "<li>Plot the time series of black carbon emissions from biomass burning in the simulation ('D_EBB_BC').  How does it evolve in the future?</li>\n",
    "</ol>"
   ]
  },
  {
   "cell_type": "code",
   "execution_count": null,
   "metadata": {},
   "outputs": [],
   "source": []
  },
  {
   "cell_type": "markdown",
   "metadata": {},
   "source": [
    "<ol start=\"3\">\n",
    "<li>What are the present-day climate impacts of anthropogenically emitted black carbon?  Let's investigate by creating and running two simulations:\n",
    "<ul>\n",
    "<li>A control experiment using with no emissions for all variables after year 2000.  Note this is the default configuration of OSCAR.</li>\n",
    "<li>An experiment with no emissions for all variables after year 2000 except black carbon.  For black carbon, prescribe constant emissions (at the year 2000 value from the reference simulation) until year 2100.  Hint: use [`np.ones`](https://docs.scipy.org/doc/numpy-1.13.0/reference/generated/numpy.ones.html) scaled by a value to create a time-series of constant emissions to pass to OSCAR.  **Do not specify a value for `mod_DATAscen` in your `OSCAR` configuration step.**</li>\n",
    "</ul>\n",
    "</li>\n",
    "</ol>"
   ]
  },
  {
   "cell_type": "code",
   "execution_count": null,
   "metadata": {},
   "outputs": [],
   "source": []
  },
  {
   "cell_type": "markdown",
   "metadata": {},
   "source": [
    "<ol start=\"4\">\n",
    "<li>Plot the anthropogenic emissions of black carbon in these new cases to verify that you prescribed the emissions properly.</li>\n",
    "<li>Plot the time series in surface temperature from the control simulation (with no emissions) and the constant black carbon emissions simulation to get a sense for the general climate impact of black carbon.  In terms of surface temperature, what is the overall effect of adding black carbon to the atmosphere?</li>\n",
    "</ol>"
   ]
  },
  {
   "cell_type": "code",
   "execution_count": null,
   "metadata": {},
   "outputs": [],
   "source": []
  },
  {
   "cell_type": "markdown",
   "metadata": {},
   "source": [
    "<ol start=\"6\">\n",
    "<li>Note that one could also infer the climate impact of black carbon aerosols by their radiative forcing; black carbon aerosols have an impact on climate in multiple ways:\n",
    "<ul>\n",
    "<li>**Direct effect ('RF_BC'):** Black carbon aerosols absorb solar radiation in the atmosphere</li>\n",
    "<li>**Black carbon albedo effect ('RF_BCsnow'):** When black carbon settles on snow in the high latitudes, it darkens the surface (leading to an albedo change; what is the sign of this albedo change?)</li>\n",
    "<li>**Semi-direct and indirect effect ('RF_cloud'):** Absorption of solar radiation by black carbon within clouds leads to heating; this increases the saturation specific humidity, leading to evaporation, and a decrease in low clouds (the semi-direct effect).  But black carbon also brightens existing clouds by increasing the cloud droplet number concentration (the indirect effect); in practice this effect typically outweighs the semi-direct effect. The quantitative magnitude of these effects of aerosols on clouds are fairly uncertain, however.</li>\n",
    "</ul>\n",
    "**OSCAR simulates these effects separately as individual radiative forcings (the names of those variables are in parentheses next to each effect); plot the difference of each of these as a function of time between the constant black carbon emissions simulation and the control simulation.** What are the signs of the different effects?  How do those fit in with your physical intuition?  How important are each of them based on their magnitude?</li>\n",
    "</ol>"
   ]
  },
  {
   "cell_type": "code",
   "execution_count": null,
   "metadata": {},
   "outputs": [],
   "source": []
  },
  {
   "cell_type": "markdown",
   "metadata": {},
   "source": [
    "<ol start=\"7\"> \n",
    "<li>Using the same procedure that you used last week, estimate the lifetime of black carbon in the atmosphere using the control simulation (where anthropogenic emissions of black carbon promptly stop in year 2000).  How does it compare to that found for the greenhouse gases?  Why is this the case?  How might this impact their effects on climate?</li>\n",
    "</ol>"
   ]
  },
  {
   "cell_type": "code",
   "execution_count": null,
   "metadata": {},
   "outputs": [],
   "source": []
  },
  {
   "cell_type": "markdown",
   "metadata": {},
   "source": [
    "Where does the reference to the number \"e\" come from?\n",
    "--------------------------------------------------\n",
    "Note that we are assuming that the burden once emission stops can be modeled as an exponential decay with a fixed timescale, $\\tau$:\n",
    "$$ \\frac{BC(y)}{BC_{max}} \\approx e^{-\\frac{y - 2010}{\\tau}}.$$\n",
    "The lifetime (as we have defined it here) is then the time it takes (in number of years) to the point that $-\\frac{y - 2010}{\\tau} = -1$ (i.e. the point at which $\\frac{BC}{BC_{max}}$ drops to $\\frac{1}{e}$)."
   ]
  },
  {
   "cell_type": "markdown",
   "metadata": {},
   "source": [
    "<div class=\"alert alert-info\"><h1>Exercise 2: Switching from coal to natural gas for electricity production </h1></div>"
   ]
  },
  {
   "cell_type": "markdown",
   "metadata": {},
   "source": [
    "This exercise is motivated by a question in the abstract of Hayoe et al., 2002:\n",
    ">\"Substitution of natural gas for coal is one means of reducing carbon dioxide (CO2) emissions. However, natural gas and coal use also results in emissions of other radiatively active substances including methane (CH4), sulfur dioxide (SO2), a sulfate aerosol precursor, and black carbon (BC) particles. Will switching from coal to gas reduce the net impact of fossil fuel use on global climate?\"\n",
    "\n",
    "RCP8.5 assumes that the energy produced from coal will go from 150 EJ in 2010 to 800 EJ by 2100. In RCP4.5, the energy produced from coal stays around 100 EJ. The aim of this exercise is to estimate the warming associated with coal consumption in RCP8.5 and compare it to the warming if natural gas were used instead. Here, we want to isolate the impact of coal and natural gas without considering all other factors in the scenario. \n",
    "\n",
    "1. Using Table 1, compute the emissions of CO2, CH4, SO2, and BC emitted for 1 EJ of energy produced with coal and for 1 EJ of energy produced with natural gas. Be sure to convert to the units used by `OSCAR`. In the end you should obtain emissions in Gt/EJ for CO2 and in Mt/EJ for all other compounds. Note that EJ = $10^{18}$ J.  (These are just individual numbers).\n",
    "\n",
    "### Table 1: Emissions depending on energy source\n",
    "\n",
    "| Source       | Coal combustion emissions | Coal combustion emissions range | Natural gas combustion emissions | Natural gas combustion emissions range | \n",
    "|--------------|---------------------------|---------------------------------|---|---|\n",
    "| CO2 [MtC/EJ] |                        25 |                       16.5-29.5 |15 | 14.8-15.3|\n",
    "| CH4 [MtC/EJ] |                      0.43 |                        0.02-2.0 |1.0 | 0.33-2.2|\n",
    "| SO2 [MtS/EJ] |                      0.24 |                        0.02-1.2 |0.0003| ?|\n",
    "| BC [MtC/EJ]  |                      0.04 |                      0.013-0.18 |2.2e-7| ?|"
   ]
  },
  {
   "cell_type": "code",
   "execution_count": null,
   "metadata": {
    "collapsed": true
   },
   "outputs": [],
   "source": []
  },
  {
   "cell_type": "markdown",
   "metadata": {},
   "source": [
    "<ol start=\"2\">\n",
    "    <li>Run a simulation with the built-in RCP8.5 scenario for all compounds through 2100.</li>\n",
    "</ol>"
   ]
  },
  {
   "cell_type": "code",
   "execution_count": null,
   "metadata": {},
   "outputs": [],
   "source": []
  },
  {
   "cell_type": "markdown",
   "metadata": {},
   "source": [
    "<ol start=\"3\">\n",
    "    <li>Assuming a linear evolution of coal energy production between 2000 and 2100, compute the per year emissions of CO2, CH4, BC and SO2. Units here should be GtC/y for CO2, MtS/y for SO2 and MtC/y for CH4 and BC. This will be the basis for the \"coal\" experiment.  Hint: find the start and endpoints, then use [`np.linspace`](https://docs.scipy.org/doc/numpy/reference/generated/numpy.linspace.html) to generate the linear pattern of emissions; the start is the value of the total emissions for each substance in year 2000 under the RCP8.5 reference case. **Assume the energy production will be 800 EJ in 2100 under the RCP8.5 scenario**.</li>\n",
    "</ol>"
   ]
  },
  {
   "cell_type": "code",
   "execution_count": null,
   "metadata": {
    "collapsed": true
   },
   "outputs": [],
   "source": []
  },
  {
   "cell_type": "markdown",
   "metadata": {},
   "source": [
    "<ol start=\"4\">\n",
    "<li>Compute the emissions of CO2, CH4, BC, and SO2 that would be emitted if all coal energy were replaced by natural gas. This will be the basis for the \"natural gas\" experiment.</li>\n",
    "</ol>"
   ]
  },
  {
   "cell_type": "code",
   "execution_count": null,
   "metadata": {
    "collapsed": true
   },
   "outputs": [],
   "source": []
  },
  {
   "cell_type": "markdown",
   "metadata": {},
   "source": [
    "<ol start=\"5\">\n",
    "<li>Run two simulations of `OSCAR`, using the two sets of emissions after 2000 (one for coal emissions, one for natural gas emissions). In each case set all other emissions to zero (i.e. let them stay as their default scenario, which is to stop).  **Use `mod_DATAscen='prescribed'` in your configuration step.**</li>\n",
    "</ol>"
   ]
  },
  {
   "cell_type": "code",
   "execution_count": null,
   "metadata": {},
   "outputs": [],
   "source": []
  },
  {
   "cell_type": "markdown",
   "metadata": {},
   "source": [
    "<ol start=\"6\">\n",
    "<li>Plot and compare the temperature and emissions of CO2, CH4, SO2 and BC in both experiments. Verify that your emissions were prescribed properly.  Discuss.</li>\n",
    "</ol>"
   ]
  },
  {
   "cell_type": "code",
   "execution_count": null,
   "metadata": {},
   "outputs": [],
   "source": []
  },
  {
   "cell_type": "code",
   "execution_count": null,
   "metadata": {},
   "outputs": [],
   "source": []
  },
  {
   "cell_type": "markdown",
   "metadata": {},
   "source": [
    "<ol start=\"7\">\n",
    "<li>We want to decompose the warming into the contributions from CO2, CH4, SO2 and BC in both cases. Run experiments isolating the impact of each of the 4 compounds in the coal and in the natural gas cases. Similarly to the previous exercise, you also need to run a \"control\" experiment with no emissions to remove the background warming (if you plot the warming in that control experiment you'll see that it is not zero). Plot the warming induced by each compound. Discuss the compensation between coal and natural gas cases.</li>\n",
    "</ol>"
   ]
  },
  {
   "cell_type": "code",
   "execution_count": null,
   "metadata": {},
   "outputs": [],
   "source": []
  },
  {
   "cell_type": "code",
   "execution_count": null,
   "metadata": {},
   "outputs": [],
   "source": []
  },
  {
   "cell_type": "code",
   "execution_count": null,
   "metadata": {},
   "outputs": [],
   "source": []
  },
  {
   "cell_type": "code",
   "execution_count": null,
   "metadata": {},
   "outputs": [],
   "source": []
  },
  {
   "cell_type": "markdown",
   "metadata": {},
   "source": [
    "References\n",
    "----------\n",
    "\n",
    "Hayhoe, K. et al. 2002. Substitution of Natural Gas for Coal: Climatic Effects of Utility Sector Emissions. Climatic Change 54, 107–139. doi:10.1023/A:1015737505552\n",
    "\n",
    "Lueken, R. et al. 2016. The climate and health effects of a USA switch from coal to gas electricity generation. Energy 109, 1160–1166. doi:10.1016/j.energy.2016.03.078\n",
    "\n",
    "van Vuuren et al. 2017. Energy, land-use and greenhouse gas emissions trajectories under a green growth paradigm. Global Environmental Change 42, 237–250. doi:10.1016/j.gloenvcha.2016.05.008"
   ]
  }
 ],
 "metadata": {
  "kernelspec": {
   "display_name": "Python 2",
   "language": "python",
   "name": "python2"
  },
  "language_info": {
   "codemirror_mode": {
    "name": "ipython",
    "version": 2
   },
   "file_extension": ".py",
   "mimetype": "text/x-python",
   "name": "python",
   "nbconvert_exporter": "python",
   "pygments_lexer": "ipython2",
   "version": "2.7.13"
  }
 },
 "nbformat": 4,
 "nbformat_minor": 2
}
