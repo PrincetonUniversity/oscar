{
 "cells": [
  {
   "cell_type": "markdown",
   "metadata": {},
   "source": [
    "# Lab 2.1: Radiative budget, forcing and temperature response"
   ]
  },
  {
   "cell_type": "markdown",
   "metadata": {},
   "source": [
    "### Running the OSCAR climate model\n",
    "\n",
    "This lab will be our first encounter with the OSCAR compact earth system model.  An introduction to running OSCAR can be found in the [Quickstart](http://www.princeton.edu/~skclark/oscar/quickstart.html#) page of the documentation of the model for the course.  The homepage of the documentation can be found here: [www.princeton.edu/~skclark/oscar/](http://www.princeton.edu/~skclark/oscar/)"
   ]
  },
  {
   "cell_type": "markdown",
   "metadata": {},
   "source": [
    "### Making panel plots and saving figures\n",
    "\n",
    "For writing up projects it will be helpful to be able to make panel plots and save graphics produced using matplotlib.  This can be done using the [`Figure.savefig`](https://matplotlib.org/api/figure_api.html#matplotlib.figure.Figure.savefig) command in ``matplotlib.``  For example:"
   ]
  },
  {
   "cell_type": "code",
   "execution_count": 1,
   "metadata": {
    "collapsed": true
   },
   "outputs": [],
   "source": [
    "import matplotlib.pyplot as plt\n",
    "%matplotlib inline"
   ]
  },
  {
   "cell_type": "code",
   "execution_count": 24,
   "metadata": {},
   "outputs": [
    {
     "data": {
      "image/png": "[encoded data removed]",
      "text/plain": [
       "<matplotlib.figure.Figure at 0x115dd4490>"
      ]
     },
     "metadata": {},
     "output_type": "display_data"
    }
   ],
   "source": [
    "## Figure with 3 subplots\n",
    "fig, axes = plt.subplots(1, 3)\n",
    "fig.set_size_inches(15, 3)\n",
    "\n",
    "# plot 1\n",
    "axes[0].plot([0, 1], [0, 1])\n",
    "axes[0].set_title('Plot 1')\n",
    "axes[0].set_xlabel('xaxis')\n",
    "axes[0].set_ylabel('yaxis ... could be $\\mathregular{\\Delta}$T ')\n",
    "\n",
    "# plot 2\n",
    "axes[1].plot([0, 1], [1, 0])\n",
    "axes[1].set_title('Plot 2')\n",
    "\n",
    "# plot 3\n",
    "axes[2].plot([0, 0.5, 1], [1, 0, 1])\n",
    "axes[2].set_title('Plot 3')\n",
    "axes[2].set_ylim([-2, 2])\n",
    "\n",
    "\n",
    "fig.savefig('example-fig.pdf')  # Change the extension of the file for a different format (e.g. 'example-fig.png')"
   ]
  },
  {
   "cell_type": "code",
   "execution_count": 25,
   "metadata": {
    "collapsed": true
   },
   "outputs": [],
   "source": [
    "import numpy as np\n",
    "\n",
    "from oscar import OSCAR"
   ]
  },
  {
   "cell_type": "markdown",
   "metadata": {},
   "source": [
    "### Run the historical simple case and check the results\n",
    "\n",
    "Here as an example, we will run OSCAR in its default configuration through the year 2100.  "
   ]
  },
  {
   "cell_type": "code",
   "execution_count": 26,
   "metadata": {},
   "outputs": [
    {
     "name": "stdout",
     "output_type": "stream",
     "text": [
      "LOADING: DRIVERS\n",
      "LOADING: PARAMETERS\n",
      "FORMATING\n"
     ]
    }
   ],
   "source": [
    "enddate = 2100\n",
    "results = OSCAR().run(enddate) # By default OSCAR runs with emissions stopping in 2011"
   ]
  },
  {
   "cell_type": "markdown",
   "metadata": {},
   "source": [
    "### Dictionaries\n",
    "OSCAR outputs data in the form of a dictionary.  Let's recall a few properties of dictionaries."
   ]
  },
  {
   "cell_type": "code",
   "execution_count": 27,
   "metadata": {},
   "outputs": [
    {
     "name": "stdout",
     "output_type": "stream",
     "text": [
      "1\n",
      "['a', 'b']\n"
     ]
    }
   ],
   "source": [
    "example_dict = {'a': 1, 'b': 2}\n",
    "print example_dict['a']  # Retrieve the value associated with key 'a'\n",
    "\n",
    "# If you don't know the keys to a dictionary you can print the result of the keys() method\n",
    "print example_dict.keys()"
   ]
  },
  {
   "cell_type": "markdown",
   "metadata": {},
   "source": [
    "For example we could use the `.keys()` method to display all the variables output by OSCAR.  Some of these variables are simple 1D arrays (with a length of the number of years in the simulation), while others are dictionaries."
   ]
  },
  {
   "cell_type": "code",
   "execution_count": 28,
   "metadata": {
    "scrolled": true
   },
   "outputs": [
    {
     "data": {
      "text/plain": [
       "['EOC',\n",
       " 'D_O3t',\n",
       " 'D_O3s',\n",
       " 'D_AREA',\n",
       " 'RFcon',\n",
       " 'D_HVSNK_CH4',\n",
       " 'D_csoil1',\n",
       " 'ENH3',\n",
       " 'D_csoil2',\n",
       " 'EN2O',\n",
       " 'RF_halo',\n",
       " 'D_HVSNK_N2O',\n",
       " 'RF_LCC',\n",
       " 'ECO',\n",
       " 'D_N2O_lag',\n",
       " 'D_CH4_lag',\n",
       " 'RF',\n",
       " 'RF_CH4',\n",
       " 'D_BC',\n",
       " 'ENOX',\n",
       " 'D_EBB_SO2',\n",
       " 'RF_H2Os',\n",
       " 'D_EBB_BC',\n",
       " 'RF_N2O',\n",
       " 'D_EBB_N2O',\n",
       " 'D_EBB_NH3',\n",
       " 'D_gst',\n",
       " 'RF_BC',\n",
       " 'REGION_MEAN_ALB',\n",
       " 'RF_SOA',\n",
       " 'D_AERh',\n",
       " 'OSNK',\n",
       " 'D_CO2',\n",
       " 'D_lst',\n",
       " 'EPFC',\n",
       " 'EODS',\n",
       " 'D_EBB_OC',\n",
       " 'D_SO4',\n",
       " 'RFsolar',\n",
       " 'ESO2',\n",
       " 'D_XSNK_CH4',\n",
       " 'D_lyp',\n",
       " 'RF_SO4',\n",
       " 'BIOME_MEAN_ALB',\n",
       " 'D_sst',\n",
       " 'RFvolc',\n",
       " 'D_EBB_CO',\n",
       " 'D_CH4',\n",
       " 'D_EESC',\n",
       " 'RF_O3s',\n",
       " 'D_pH',\n",
       " 'RF_O3t',\n",
       " 'LSNK',\n",
       " 'D_N2O',\n",
       " 'D_mld',\n",
       " 'D_EBB_NOX',\n",
       " 'D_ewet',\n",
       " 'D_POA',\n",
       " 'D_OHSNK_CH4',\n",
       " 'D_fmort',\n",
       " 'D_EBB_CO2',\n",
       " 'D_cveg',\n",
       " 'D_dic',\n",
       " 'RF_NO3',\n",
       " 'D_fmet',\n",
       " 'RF_POA',\n",
       " 'D_SOA',\n",
       " 'ECH4',\n",
       " 'D_AWET',\n",
       " 'D_NO3',\n",
       " 'EVOC',\n",
       " 'D_efire',\n",
       " 'GLOBAL_MEAN_ALB',\n",
       " 'D_EWET',\n",
       " 'RF_warm',\n",
       " 'RF_atm',\n",
       " 'D_gyp',\n",
       " 'EFF',\n",
       " 'D_EBB_VOC',\n",
       " 'EBC',\n",
       " 'D_npp',\n",
       " 'D_EBB_CH4',\n",
       " 'D_rh2',\n",
       " 'D_rh1',\n",
       " 'EHFC',\n",
       " 'D_OHC',\n",
       " 'RF_CO2',\n",
       " 'RF_cloud',\n",
       " 'RF_BCsnow']"
      ]
     },
     "execution_count": 28,
     "metadata": {},
     "output_type": "execute_result"
    }
   ],
   "source": [
    "results.keys()"
   ]
  },
  {
   "cell_type": "markdown",
   "metadata": {},
   "source": [
    "Global radiative forcing (variable RF) is output as an array; each value represents the value for a particular year."
   ]
  },
  {
   "cell_type": "code",
   "execution_count": 29,
   "metadata": {},
   "outputs": [
    {
     "data": {
      "text/plain": [
       "array([  0.00000000e+00,   0.00000000e+00,  -1.23468749e-10,\n",
       "        -2.35357678e-10,  -2.13143225e-10,  -2.12685800e-10,\n",
       "        -2.12343101e-10,  -2.94432145e-10,  -4.58172222e-10,\n",
       "        -4.57115790e-10,  -4.56324672e-10,  -5.53708357e-10,\n",
       "        -6.50696386e-10,  -6.49788667e-10,  -6.38274822e-10,\n",
       "        -6.26941610e-10,  -6.26561303e-10,  -6.26267815e-10,\n",
       "        -6.26038665e-10,  -6.25857144e-10,  -6.25711039e-10,\n",
       "        -6.25591301e-10,  -6.25490881e-10,  -6.25405061e-10,\n",
       "        -6.25329954e-10,  -6.25263064e-10,  -6.25202168e-10,\n",
       "        -6.25145824e-10,  -6.25092866e-10,  -6.25042573e-10,\n",
       "        -6.24994279e-10,  -6.24947483e-10,  -6.24901908e-10,\n",
       "        -6.24857388e-10,  -6.24813479e-10,  -6.24770402e-10,\n",
       "        -6.24727770e-10,  -6.24685637e-10,  -6.24643892e-10,\n",
       "        -6.24602425e-10,  -6.24561625e-10,  -6.24520824e-10,\n",
       "        -6.24480523e-10,  -6.24440277e-10,  -6.24400531e-10,\n",
       "        -6.24360841e-10,  -6.24321594e-10,  -6.24282404e-10,\n",
       "        -6.24243657e-10,  -6.24205077e-10,  -6.24166718e-10,\n",
       "         3.91743243e-01,   3.73060942e-01,   3.69606972e-01,\n",
       "         3.59160900e-01,  -3.15028340e-01,   3.49370152e-01,\n",
       "         3.57226461e-01,   3.57060015e-01,   3.07560861e-01,\n",
       "         2.40468547e-01,  -6.92386568e-01,   1.13079466e-01,\n",
       "         3.10331136e-01,   3.79553467e-01,   3.67089003e-01,\n",
       "         3.77848119e-01,   3.91599417e-01,   4.45195168e-01,\n",
       "         4.80615258e-01,   5.12970865e-01,   4.88355070e-01,\n",
       "         4.16523308e-01,   4.32059467e-01,   4.30374026e-01,\n",
       "         3.99682194e-01,   3.95031005e-01,   4.05306011e-01,\n",
       "         3.92487645e-01,   3.38767081e-01,   3.58131886e-01,\n",
       "         3.85373950e-01,   4.18787807e-01,  -7.46182537e+00,\n",
       "        -1.12109333e-01,   2.93594271e-01,   4.06511933e-01,\n",
       "         4.49800014e-01,   3.52754503e-01,   3.77810210e-01,\n",
       "         3.85364890e-01,   3.96206200e-01,   4.03380603e-01,\n",
       "         3.90476406e-01,   2.35886604e-01,   4.31063652e-01,\n",
       "        -3.54094476e-01,   3.47513556e-01,   4.00485992e-01,\n",
       "         4.12731618e-01,   4.07228917e-01,   2.87942082e-01,\n",
       "         4.04973507e-01,   4.19366002e-01,   1.94035724e-01,\n",
       "         3.48778814e-01,   4.13188100e-01,   4.06770676e-01,\n",
       "         4.01603550e-01,  -6.53462553e+00,  -1.83666170e+00,\n",
       "        -4.25451249e-01,   9.72468182e-02,   2.95467019e-01,\n",
       "         4.07485515e-01,  -1.12036505e+01,  -4.10113144e+00,\n",
       "        -1.97000861e+00,  -4.80643123e-01,   8.80494118e-02,\n",
       "         3.75699669e-01,   4.05758560e-01,   4.03250694e-01,\n",
       "         4.01301146e-01,   4.10848558e-01,   4.18708920e-01,\n",
       "         4.27799731e-01,   4.54980463e-01,   4.66185570e-01,\n",
       "         4.69437301e-01,   4.78718489e-01,  -1.05583358e+00,\n",
       "        -7.64772892e-01,  -1.54476061e-01,   2.24016771e-01,\n",
       "        -4.47683525e+00,  -9.31102335e-01,   2.47917213e-02,\n",
       "         3.47970903e-01,   4.45883572e-01,   4.66304183e-01,\n",
       "         4.80747133e-01,   4.78957832e-01,   4.24488425e-01,\n",
       "         4.53214705e-01,   4.63902801e-01,   3.99641871e-01,\n",
       "         4.14418221e-01,   4.74950373e-01,   5.41170001e-01,\n",
       "         4.24567342e-01,   4.42929298e-01,   4.97838169e-01,\n",
       "         4.90020722e-01,   4.95319992e-01,   4.29836959e-01,\n",
       "        -5.02176225e-01,  -1.02273178e+00,  -2.28177607e-01,\n",
       "         2.34805182e-01,   4.20488954e-01,   4.78711963e-01,\n",
       "         1.84136137e-01,   2.81000316e-01,   3.86966199e-01,\n",
       "         4.65033770e-01,   4.91239190e-01,   5.04683435e-01,\n",
       "         5.07347107e-01,   5.21151006e-01,   5.03151357e-01,\n",
       "         5.60152471e-01,   5.49667180e-01,   5.06755590e-01,\n",
       "         5.20694852e-01,   5.34820318e-01,   4.00580257e-01,\n",
       "         4.26803112e-01,   4.74047422e-01,   5.01389921e-01,\n",
       "         5.36930501e-01,   5.74087977e-01,   5.67391574e-01,\n",
       "        -5.87465286e-01,  -2.92728615e+00,  -9.34506178e-01,\n",
       "        -2.72803098e-01,  -3.13969553e-01,   6.06751926e-02,\n",
       "        -1.14095494e-01,  -3.58507633e-01,  -1.07996419e-01,\n",
       "         1.19218029e-01,   4.78209615e-01,   6.42887533e-01,\n",
       "         7.01122046e-01,   2.51661658e-01,   2.56034642e-01,\n",
       "         3.76969665e-01,   5.51521838e-01,   6.19989753e-01,\n",
       "         6.33855999e-01,   1.57833844e-01,  -1.12306488e+00,\n",
       "        -7.02973977e-02,   3.80367815e-01,   5.77143192e-01,\n",
       "         5.02156854e-01,   5.02907038e-01,   6.35711133e-01,\n",
       "         6.61692262e-01,   6.67693496e-01,   2.38539949e-01,\n",
       "         1.25456065e-01,   4.92179155e-01,   6.94385648e-01,\n",
       "         7.80536175e-01,   8.30170631e-01,   8.71883810e-01,\n",
       "         8.30032170e-01,   6.27850592e-01,   6.28879428e-01,\n",
       "         7.30748117e-01,   7.71333098e-01,   7.20115840e-01,\n",
       "         7.36876488e-01,   7.99542248e-01,   8.45413148e-01,\n",
       "         7.43677616e-01,   6.17612004e-01,   7.41058171e-01,\n",
       "         7.29290485e-01,   6.29435658e-01,   6.42950058e-01,\n",
       "         7.21506178e-01,   7.42524385e-01,   8.46326768e-01,\n",
       "         8.70988250e-01,   8.15959096e-01,   8.59093428e-01,\n",
       "         8.64834428e-01,   8.83268476e-01,   8.12387109e-01,\n",
       "         7.84218311e-01,   8.35526109e-01,   8.70333552e-01,\n",
       "         8.80870342e-01,   9.55457747e-01,   1.01473069e+00,\n",
       "         9.73087251e-01,   9.67367768e-01,   9.20605421e-01,\n",
       "         8.81322742e-01,   8.92028093e-01,   8.50095630e-01,\n",
       "         9.18462038e-01,   1.00032985e+00,   1.07530093e+00,\n",
       "         1.17486668e+00,   1.15034544e+00,   1.02920139e+00,\n",
       "         8.49346101e-01,   7.54273355e-01,  -7.04715177e-02,\n",
       "        -7.24462807e-01,   3.39911925e-03,   5.19856632e-01,\n",
       "         7.74883986e-01,   5.19261062e-01,   3.51050615e-01,\n",
       "         8.07266891e-01,   1.10666728e+00,   1.16564548e+00,\n",
       "         1.04165447e+00,   9.35017526e-01,   5.30312121e-01,\n",
       "         9.31887329e-01,   1.22511196e+00,   1.26719368e+00,\n",
       "         1.30761480e+00,   1.42725623e+00,   1.46609628e+00,\n",
       "         2.62687236e-01,  -2.51543939e-01,   8.37042391e-01,\n",
       "         1.29201031e+00,   1.30291247e+00,   1.44319344e+00,\n",
       "         1.60411739e+00,   1.75736570e+00,   1.74826336e+00,\n",
       "         6.09272599e-01,  -9.85191584e-01,   7.99604654e-01,\n",
       "         1.52862883e+00,   1.80151784e+00,   1.89153981e+00,\n",
       "         1.99067283e+00,   2.12874532e+00,   2.24247336e+00,\n",
       "         2.30279994e+00,   2.32139206e+00,   2.34801507e+00,\n",
       "         2.28904819e+00,   2.30963445e+00,   2.29527617e+00,\n",
       "         2.30341625e+00,   2.33853030e+00,   2.35862660e+00,\n",
       "         2.37784171e+00,   2.48521757e+00,   2.50459313e+00,\n",
       "         2.44665098e+00,   2.37407446e+00,   2.31149697e+00,\n",
       "         2.25314713e+00,   2.19465780e+00,   2.13522744e+00,\n",
       "         2.07571912e+00,   2.01725149e+00,   1.96069109e+00,\n",
       "         1.90658545e+00,   1.85522807e+00,   1.80673885e+00,\n",
       "         1.76112258e+00,   1.71831560e+00,   1.67821121e+00,\n",
       "         1.64067852e+00,   1.60557294e+00,   1.57274485e+00,\n",
       "         1.54204321e+00,   1.51332045e+00,   1.48643184e+00,\n",
       "         1.46124017e+00,   1.43761551e+00,   1.41543472e+00,\n",
       "         1.39458251e+00,   1.37495196e+00,   1.35644376e+00,\n",
       "         1.33896613e+00,   1.32243466e+00,   1.30677152e+00,\n",
       "         1.29190540e+00,   1.27777171e+00,   1.26431108e+00,\n",
       "         1.25146890e+00,   1.23919618e+00,   1.22744775e+00,\n",
       "         1.21618295e+00,   1.20536423e+00,   1.19495821e+00,\n",
       "         1.18493366e+00,   1.17526317e+00,   1.16592073e+00,\n",
       "         1.15688419e+00,   1.14813161e+00,   1.13964438e+00,\n",
       "         1.13140464e+00,   1.12339699e+00,   1.11560655e+00,\n",
       "         1.10802042e+00,   1.10062647e+00,   1.09341335e+00,\n",
       "         1.08637130e+00,   1.07949042e+00,   1.07276261e+00,\n",
       "         1.06618023e+00,   1.05973566e+00,   1.05342245e+00,\n",
       "         1.04723430e+00,   1.04116595e+00,   1.03521132e+00,\n",
       "         1.02936637e+00,   1.02362597e+00,   1.01798630e+00,\n",
       "         1.01244330e+00,   1.00699306e+00,   1.00163233e+00,\n",
       "         9.96358156e-01,   9.91167426e-01,   9.86057281e-01,\n",
       "         9.81024504e-01,   9.76067424e-01,   9.71183300e-01,\n",
       "         9.66369808e-01,   9.61625099e-01,   9.56947207e-01,\n",
       "         9.52334225e-01,   9.47783589e-01,   9.43294525e-01,\n",
       "         9.38865006e-01,   9.34493661e-01,   9.30178940e-01,\n",
       "         9.25919235e-01,   9.21713591e-01,   9.17560160e-01,\n",
       "         9.13458228e-01,   9.09406185e-01,   9.05403137e-01,\n",
       "         9.01447713e-01,   8.97538960e-01], dtype=float32)"
      ]
     },
     "execution_count": 29,
     "metadata": {},
     "output_type": "execute_result"
    }
   ],
   "source": [
    "results['RF']"
   ]
  },
  {
   "cell_type": "markdown",
   "metadata": {},
   "source": [
    "We could make a quick one panel plot of the time series of radiative forcing.  We'll use the [`np.arange`](https://docs.scipy.org/doc/numpy/reference/generated/numpy.arange.html) function along with the length of the array to create an array representing the year in the simulation."
   ]
  },
  {
   "cell_type": "code",
   "execution_count": 30,
   "metadata": {},
   "outputs": [
    {
     "data": {
      "text/plain": [
       "<matplotlib.text.Text at 0x117465d90>"
      ]
     },
     "execution_count": 30,
     "metadata": {},
     "output_type": "execute_result"
    },
    {
     "data": {
      "image/png": "[encoded data removed]",
      "text/plain": [
       "<matplotlib.figure.Figure at 0x1174029d0>"
      ]
     },
     "metadata": {},
     "output_type": "display_data"
    }
   ],
   "source": [
    "year = np.arange(len(results['RF'])) + 1700\n",
    "\n",
    "fig, ax = plt.subplots(1, 1)\n",
    "ax.plot(year, results['RF'])\n",
    "ax.set_xlabel('Year')\n",
    "ax.set_ylabel('Radiative Forcing [W m$^{-2}$]')"
   ]
  },
  {
   "cell_type": "markdown",
   "metadata": {},
   "source": [
    "<div class=\"alert alert-info\"><h1>Exercise 1</h1></div>\n",
    "\n",
    "1. Plot the simulated change in temperature, the simulated change in atmospheric CO2 and the global fossil fuel emissions used as input in this model run. Use 2 panels (follow the example above), add units.\n",
    "2. Explain why the temperature decreases after 2010 in this run."
   ]
  },
  {
   "cell_type": "code",
   "execution_count": null,
   "metadata": {
    "collapsed": true
   },
   "outputs": [],
   "source": []
  },
  {
   "cell_type": "markdown",
   "metadata": {},
   "source": [
    "### Nested dictionaries\n",
    "Some variables output by OSCAR are dictionaries of arrays.  These include [emissions of greenhouse gases and aerosols](http://www.princeton.edu/~skclark/oscar/outputs.html#emissions).  This is because emissions are prescribed on a region-by-region basis.  For example if we look at the keys of the dictionary associated with the fossil fuel emissions (`'EFF'`), we see a list of regions, in addition to a key of `'Total'`.\n",
    "\n",
    "Depending on the constituent, the units of the emissions vary.  Fossil fuel emissions are given in Gt per year, but for other emissions variables see the [Emissions section](http://www.princeton.edu/~skclark/oscar/outputs.html#emissions) of the [Output variables](http://www.princeton.edu/~skclark/oscar/outputs.html#) page in the documentation."
   ]
  },
  {
   "cell_type": "code",
   "execution_count": 32,
   "metadata": {},
   "outputs": [
    {
     "data": {
      "text/plain": [
       "['Europe',\n",
       " 'Bunker fuels',\n",
       " 'China region',\n",
       " 'South & South-East Asia',\n",
       " 'Tropical Africa',\n",
       " 'Former Soviet Union',\n",
       " 'North America',\n",
       " 'South & Central America',\n",
       " 'North Africa & Middle East',\n",
       " 'Total',\n",
       " 'Pacific Developed region']"
      ]
     },
     "execution_count": 32,
     "metadata": {},
     "output_type": "execute_result"
    }
   ],
   "source": [
    "results['EFF'].keys()"
   ]
  },
  {
   "cell_type": "markdown",
   "metadata": {},
   "source": [
    "For now we are mainly interested in the total emissions.  We can select this with this nested getitem syntax; the key in the left pair of square brackets is for querying the `results` dictionary and the right pair of square brackets is for queurying the dictionary `results['EFF']` returns.  Here we get the desired result, a one dimensional time series for the total emissions from fossil fuels."
   ]
  },
  {
   "cell_type": "code",
   "execution_count": 33,
   "metadata": {},
   "outputs": [
    {
     "data": {
      "text/plain": [
       "array([  0.00000000e+00,   0.00000000e+00,   0.00000000e+00,\n",
       "         0.00000000e+00,   0.00000000e+00,   0.00000000e+00,\n",
       "         0.00000000e+00,   0.00000000e+00,   0.00000000e+00,\n",
       "         0.00000000e+00,   0.00000000e+00,   0.00000000e+00,\n",
       "         0.00000000e+00,   0.00000000e+00,   0.00000000e+00,\n",
       "         0.00000000e+00,   0.00000000e+00,   0.00000000e+00,\n",
       "         0.00000000e+00,   0.00000000e+00,   0.00000000e+00,\n",
       "         0.00000000e+00,   0.00000000e+00,   0.00000000e+00,\n",
       "         0.00000000e+00,   0.00000000e+00,   0.00000000e+00,\n",
       "         0.00000000e+00,   0.00000000e+00,   0.00000000e+00,\n",
       "         0.00000000e+00,   0.00000000e+00,   0.00000000e+00,\n",
       "         0.00000000e+00,   0.00000000e+00,   0.00000000e+00,\n",
       "         0.00000000e+00,   0.00000000e+00,   0.00000000e+00,\n",
       "         0.00000000e+00,   0.00000000e+00,   0.00000000e+00,\n",
       "         0.00000000e+00,   0.00000000e+00,   0.00000000e+00,\n",
       "         0.00000000e+00,   0.00000000e+00,   0.00000000e+00,\n",
       "         0.00000000e+00,   0.00000000e+00,   0.00000000e+00,\n",
       "         3.00000003e-03,   3.00000003e-03,   3.00000003e-03,\n",
       "         3.00000003e-03,   3.00000003e-03,   3.00000003e-03,\n",
       "         3.00000003e-03,   3.00000003e-03,   3.00000003e-03,\n",
       "         3.00000003e-03,   3.00000003e-03,   3.00000003e-03,\n",
       "         3.00000003e-03,   3.00000003e-03,   3.00000003e-03,\n",
       "         3.00000003e-03,   3.00000003e-03,   3.00000003e-03,\n",
       "         3.00000003e-03,   3.00000003e-03,   4.00000019e-03,\n",
       "         4.00000019e-03,   4.00000019e-03,   4.00000019e-03,\n",
       "         4.00000019e-03,   4.00000019e-03,   4.00000019e-03,\n",
       "         4.00000019e-03,   4.00000019e-03,   4.00000019e-03,\n",
       "         4.99999989e-03,   4.99999989e-03,   4.99999989e-03,\n",
       "         4.99999989e-03,   4.99999570e-03,   4.99999663e-03,\n",
       "         4.99999616e-03,   4.99999616e-03,   4.99999570e-03,\n",
       "         4.99999523e-03,   5.99999633e-03,   5.99999819e-03,\n",
       "         5.99999912e-03,   6.00000191e-03,   6.00000378e-03,\n",
       "         6.00000471e-03,   6.99999649e-03,   7.00000301e-03,\n",
       "         7.00000068e-03,   7.99999572e-03,   7.99999945e-03,\n",
       "         1.00000007e-02,   9.00000334e-03,   9.00000427e-03,\n",
       "         8.99999496e-03,   1.00000044e-02,   1.00000026e-02,\n",
       "         9.99999698e-03,   1.00000007e-02,   1.00000035e-02,\n",
       "         1.10000046e-02,   1.09999999e-02,   1.09999981e-02,\n",
       "         1.09999962e-02,   1.19999526e-02,   1.30000245e-02,\n",
       "         1.40000060e-02,   1.40000349e-02,   1.39999697e-02,\n",
       "         1.40000228e-02,   1.39999725e-02,   1.49999522e-02,\n",
       "         1.59999542e-02,   1.59999542e-02,   1.70000084e-02,\n",
       "         1.70000046e-02,   1.79999787e-02,   1.79999787e-02,\n",
       "         1.80000030e-02,   2.40000207e-02,   2.29999628e-02,\n",
       "         2.29999740e-02,   2.40000226e-02,   2.40000039e-02,\n",
       "         2.50000134e-02,   2.90000364e-02,   2.90000141e-02,\n",
       "         3.00000440e-02,   3.09999865e-02,   3.30000222e-02,\n",
       "         3.39999869e-02,   3.60000134e-02,   3.69999707e-02,\n",
       "         3.89999896e-02,   4.29999456e-02,   4.30000201e-02,\n",
       "         4.59999479e-02,   4.70000207e-02,   5.00000305e-02,\n",
       "         5.39999604e-02,   5.40000498e-02,   5.69999814e-02,\n",
       "         5.89999855e-02,   6.90000132e-02,   7.10000545e-02,\n",
       "         7.60000050e-02,   7.69999698e-02,   7.80000761e-02,\n",
       "         8.30000192e-02,   9.09999311e-02,   9.50001180e-02,\n",
       "         9.60000083e-02,   1.03000000e-01,   1.12000011e-01,\n",
       "         1.18999913e-01,   1.22000083e-01,   1.29999936e-01,\n",
       "         1.34000078e-01,   1.42000005e-01,   1.47000089e-01,\n",
       "         1.57000095e-01,   1.74000099e-01,   1.84000000e-01,\n",
       "         1.74000069e-01,   1.87999964e-01,   1.90999985e-01,\n",
       "         1.93999976e-01,   1.95999995e-01,   2.09999889e-01,\n",
       "         2.36000061e-01,   2.43000016e-01,   2.55999982e-01,\n",
       "         2.71999985e-01,   2.74999917e-01,   2.78000027e-01,\n",
       "         2.82000035e-01,   2.94999987e-01,   3.26999933e-01,\n",
       "         3.26999903e-01,   3.56000453e-01,   3.71000528e-01,\n",
       "         3.73999685e-01,   3.70000422e-01,   3.82999897e-01,\n",
       "         4.06000286e-01,   4.19000477e-01,   4.39999700e-01,\n",
       "         4.64000434e-01,   5.08000076e-01,   5.33999622e-01,\n",
       "         5.53000152e-01,   5.65999687e-01,   6.17000103e-01,\n",
       "         6.23999894e-01,   6.64000034e-01,   7.07999587e-01,\n",
       "         7.83001006e-01,   7.48999774e-01,   7.84999013e-01,\n",
       "         8.19000006e-01,   8.34999859e-01,   8.79000068e-01,\n",
       "         9.44000125e-01,   8.49999249e-01,   8.38000119e-01,\n",
       "         8.99999022e-01,   9.56000149e-01,   9.36000288e-01,\n",
       "         8.06000113e-01,   9.31999862e-01,   8.03000093e-01,\n",
       "         8.45000565e-01,   9.70001042e-01,   9.61999536e-01,\n",
       "         9.75000262e-01,   9.83999610e-01,   1.06200027e+00,\n",
       "         1.06600022e+00,   1.14500117e+00,   1.05200016e+00,\n",
       "         9.38999355e-01,   8.46999764e-01,   8.93999875e-01,\n",
       "         9.73000407e-01,   1.02599931e+00,   1.12999988e+00,\n",
       "         1.20899975e+00,   1.14300036e+00,   1.19099987e+00,\n",
       "         1.29900098e+00,   1.33299971e+00,   1.34099936e+00,\n",
       "         1.39099944e+00,   1.38299882e+00,   1.16100073e+00,\n",
       "         1.23799992e+00,   1.39300025e+00,   1.46899974e+00,\n",
       "         1.41900003e+00,   1.63100040e+00,   1.76700044e+00,\n",
       "         1.79500079e+00,   1.83999908e+00,   1.86499965e+00,\n",
       "         2.04400086e+00,   2.17700052e+00,   2.26999950e+00,\n",
       "         2.32999945e+00,   2.45300102e+00,   2.56800127e+00,\n",
       "         2.58000064e+00,   2.68699884e+00,   2.83199906e+00,\n",
       "         2.99600077e+00,   3.12999845e+00,   3.28799963e+00,\n",
       "         3.39399981e+00,   3.56599975e+00,   3.77999973e+00,\n",
       "         4.05300045e+00,   4.20800018e+00,   4.37599850e+00,\n",
       "         4.61499977e+00,   4.62400055e+00,   4.59600019e+00,\n",
       "         4.86499977e+00,   5.02499914e+00,   5.08699989e+00,\n",
       "         5.36899900e+00,   5.31500006e+00,   5.15100002e+00,\n",
       "         5.11300039e+00,   5.09499884e+00,   5.27999878e+00,\n",
       "         5.43999958e+00,   5.60699844e+00,   5.75099993e+00,\n",
       "         5.96500015e+00,   6.09799910e+00,   6.12699986e+00,\n",
       "         6.21799994e+00,   6.16400146e+00,   6.16200018e+00,\n",
       "         6.26700115e+00,   6.39699936e+00,   6.54199886e+00,\n",
       "         6.64999962e+00,   6.64400005e+00,   6.60900259e+00,\n",
       "         6.76399994e+00,   6.92699909e+00,   6.99600124e+00,\n",
       "         7.41700029e+00,   7.80800104e+00,   8.09299564e+00,\n",
       "         8.36999416e+00,   8.56699848e+00,   8.78299713e+00,\n",
       "         8.73999691e+00,   9.16699982e+00,   0.00000000e+00,\n",
       "         0.00000000e+00,   0.00000000e+00,   0.00000000e+00,\n",
       "         0.00000000e+00,   0.00000000e+00,   0.00000000e+00,\n",
       "         0.00000000e+00,   0.00000000e+00,   0.00000000e+00,\n",
       "         0.00000000e+00,   0.00000000e+00,   0.00000000e+00,\n",
       "         0.00000000e+00,   0.00000000e+00,   0.00000000e+00,\n",
       "         0.00000000e+00,   0.00000000e+00,   0.00000000e+00,\n",
       "         0.00000000e+00,   0.00000000e+00,   0.00000000e+00,\n",
       "         0.00000000e+00,   0.00000000e+00,   0.00000000e+00,\n",
       "         0.00000000e+00,   0.00000000e+00,   0.00000000e+00,\n",
       "         0.00000000e+00,   0.00000000e+00,   0.00000000e+00,\n",
       "         0.00000000e+00,   0.00000000e+00,   0.00000000e+00,\n",
       "         0.00000000e+00,   0.00000000e+00,   0.00000000e+00,\n",
       "         0.00000000e+00,   0.00000000e+00,   0.00000000e+00,\n",
       "         0.00000000e+00,   0.00000000e+00,   0.00000000e+00,\n",
       "         0.00000000e+00,   0.00000000e+00,   0.00000000e+00,\n",
       "         0.00000000e+00,   0.00000000e+00,   0.00000000e+00,\n",
       "         0.00000000e+00,   0.00000000e+00,   0.00000000e+00,\n",
       "         0.00000000e+00,   0.00000000e+00,   0.00000000e+00,\n",
       "         0.00000000e+00,   0.00000000e+00,   0.00000000e+00,\n",
       "         0.00000000e+00,   0.00000000e+00,   0.00000000e+00,\n",
       "         0.00000000e+00,   0.00000000e+00,   0.00000000e+00,\n",
       "         0.00000000e+00,   0.00000000e+00,   0.00000000e+00,\n",
       "         0.00000000e+00,   0.00000000e+00,   0.00000000e+00,\n",
       "         0.00000000e+00,   0.00000000e+00,   0.00000000e+00,\n",
       "         0.00000000e+00,   0.00000000e+00,   0.00000000e+00,\n",
       "         0.00000000e+00,   0.00000000e+00,   0.00000000e+00,\n",
       "         0.00000000e+00,   0.00000000e+00,   0.00000000e+00,\n",
       "         0.00000000e+00,   0.00000000e+00,   0.00000000e+00,\n",
       "         0.00000000e+00,   0.00000000e+00,   0.00000000e+00,\n",
       "         0.00000000e+00,   0.00000000e+00], dtype=float32)"
      ]
     },
     "execution_count": 33,
     "metadata": {},
     "output_type": "execute_result"
    }
   ],
   "source": [
    "results['EFF']['Total']"
   ]
  },
  {
   "cell_type": "markdown",
   "metadata": {},
   "source": [
    "<div class=\"alert alert-info\"><h1>Exercise 2</h1></div>\n",
    "\n",
    "1. Plot the time series of total fossil fuel emissions in the above simulation.  How does this connect with the temperature and CO2 concentrations simulated in the model?"
   ]
  },
  {
   "cell_type": "code",
   "execution_count": null,
   "metadata": {
    "collapsed": true
   },
   "outputs": [],
   "source": []
  },
  {
   "cell_type": "markdown",
   "metadata": {},
   "source": [
    "### Run a future scenario \n",
    "\n",
    "By default OSCAR runs with historical emissions data that stops in 2010. Default historical datasets used for each constituent can be found in the documentation under the [Data sources](http://www.princeton.edu/~skclark/oscar/data_sources.html) page.\n",
    "\n",
    "Possible future scenarios that we can use for all constituents are RCP2.6, RCP4.5, RCP6.0, RCP8.5. For more information on emissions scenarios see the [Running with built-in emissions scenarios](http://www.princeton.edu/~skclark/oscar/built_in_scens.html) page in the documentation."
   ]
  },
  {
   "cell_type": "code",
   "execution_count": 35,
   "metadata": {},
   "outputs": [
    {
     "name": "stdout",
     "output_type": "stream",
     "text": [
      "LOADING: DRIVERS\n",
      "LOADING: PARAMETERS\n",
      "FORMATING\n"
     ]
    }
   ],
   "source": [
    "enddate=2100\n",
    "results = OSCAR(scen_ALL='RCP8.5').run(enddate) # Here we use the BAU scenario RCP8.5"
   ]
  },
  {
   "cell_type": "markdown",
   "metadata": {},
   "source": [
    "<div class=\"alert alert-info\"><h1>Exercise 3</h1></div>\n",
    "\n",
    "1. Plot the simulated change in temperature, the simulated change in atmospheric CO2 and the global fossil fuel emissions used as input in this model run (using the RCP8.5 emissions scenario). Use 3 panels; add units.\n",
    "2. Compare the evolution of this run to the previous one.\n",
    "3. Can you explain why the temperature is more variable for the historical period than for the future period?"
   ]
  },
  {
   "cell_type": "code",
   "execution_count": null,
   "metadata": {
    "collapsed": true
   },
   "outputs": [],
   "source": []
  }
 ],
 "metadata": {
  "kernelspec": {
   "display_name": "Python 2",
   "language": "python",
   "name": "python2"
  },
  "language_info": {
   "codemirror_mode": {
    "name": "ipython",
    "version": 2
   },
   "file_extension": ".py",
   "mimetype": "text/x-python",
   "name": "python",
   "nbconvert_exporter": "python",
   "pygments_lexer": "ipython2",
   "version": "2.7.13"
  }
 },
 "nbformat": 4,
 "nbformat_minor": 2
}
