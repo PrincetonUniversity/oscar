{
 "cells": [
  {
   "cell_type": "markdown",
   "metadata": {},
   "source": [
    "# Lab 2.2: Radiative budget, forcing and temperature response"
   ]
  },
  {
   "cell_type": "code",
   "execution_count": 1,
   "metadata": {
    "collapsed": true
   },
   "outputs": [],
   "source": [
    "import matplotlib.pyplot as plt\n",
    "import numpy as np\n",
    "\n",
    "from oscar import OSCAR\n",
    "\n",
    "%matplotlib inline"
   ]
  },
  {
   "cell_type": "markdown",
   "metadata": {},
   "source": [
    "<div class=\"alert alert-info\"><h1>Exercise 4</h1></div>\n",
    "\n",
    "1. Run the model for the 4 future representative concentration pathways (RCPs): RCP2.6, RCP4.5, RCP6.0 and RCP8.5.\n",
    "Use a for loop to run the 4 simulations. For more information on scenarios see the [Running with built-in emissions scenarios page in the documentation.](http://www.princeton.edu/~skclark/oscar/built_in_scens.html)"
   ]
  },
  {
   "cell_type": "code",
   "execution_count": null,
   "metadata": {
    "collapsed": true
   },
   "outputs": [],
   "source": []
  },
  {
   "cell_type": "markdown",
   "metadata": {},
   "source": [
    "<ol start=\"2\">\n",
    "    <li>Plot the carbon fossil fuel emissions corresponding to the different RCPs on same figure and include label. Focus your plot on years 1950 to 2050.</li>\n",
    "</ol>"
   ]
  },
  {
   "cell_type": "code",
   "execution_count": null,
   "metadata": {
    "collapsed": true
   },
   "outputs": [],
   "source": []
  },
  {
   "cell_type": "markdown",
   "metadata": {},
   "source": [
    "<ol start=\"3\">\n",
    "    <li>Read the observed atmospheric CO2 (see Lab 1.1 Scripps data).</li>\n",
    "    <li>Plot the model change in atmospheric CO2 as a function of time for the 4 RCPs (variable D_CO2).  Again focus on years 1950 to 2050.</li>\n",
    "    <li>Overplot the observed atmospheric CO2. Hint: D_CO2 is an anomaly in CO2 concentration (referenced to the first year of the run), while observations are in concentration. You will need to offset one of the data sets such that they start at the same point in 1960.</li>\n",
    "</ol>"
   ]
  },
  {
   "cell_type": "code",
   "execution_count": null,
   "metadata": {
    "collapsed": true
   },
   "outputs": [],
   "source": []
  },
  {
   "cell_type": "markdown",
   "metadata": {},
   "source": [
    "<ol start=\"6\">\n",
    "    <li>Re-do the CO2 plot (model + data) by focusing only on the 1950 - 2030 period. Can we say what scenario we have been following between 2006 and 2017?</li>\n",
    "</ol>"
   ]
  },
  {
   "cell_type": "code",
   "execution_count": null,
   "metadata": {
    "collapsed": true
   },
   "outputs": [],
   "source": []
  },
  {
   "cell_type": "markdown",
   "metadata": {},
   "source": [
    "<ol start=\"7\">\n",
    "    <li>Load observed temperature from HadCrut4 dataset (see Lab1.2).</li>\n",
    "    <li>Plot change in temperature (D_gst) in the 4 RCPs and overplot observed temperature (HadCrut4 time-series).   Note again that you will need to offset one of the datasets.  In this case both D_gst and the temperature from the HadCrut dataset are anomalies; however, they are anomalies with different reference periods.  The Hadcrut dataset is a deviation referenced to the mean temperature anomaly between the years 1960 and 1990.  Therefore one way to do the offset is to add the mean D_gst from any of the emissions scenarios between 1960 and 1990 to the result from the Hadcrut dataset.  This way they will have the same mean anomaly between 1960 and 1990.  Discuss.</li>\n",
    "</ol>"
   ]
  },
  {
   "cell_type": "code",
   "execution_count": null,
   "metadata": {
    "collapsed": true
   },
   "outputs": [],
   "source": []
  }
 ],
 "metadata": {
  "kernelspec": {
   "display_name": "Python 2",
   "language": "python",
   "name": "python2"
  },
  "language_info": {
   "codemirror_mode": {
    "name": "ipython",
    "version": 2
   },
   "file_extension": ".py",
   "mimetype": "text/x-python",
   "name": "python",
   "nbconvert_exporter": "python",
   "pygments_lexer": "ipython2",
   "version": "2.7.13"
  }
 },
 "nbformat": 4,
 "nbformat_minor": 2
}
