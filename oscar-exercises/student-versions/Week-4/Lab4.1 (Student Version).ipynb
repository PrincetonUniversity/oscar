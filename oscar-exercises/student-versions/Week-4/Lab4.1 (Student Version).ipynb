{
 "cells": [
  {
   "cell_type": "markdown",
   "metadata": {},
   "source": [
    "# Lab 4.1: Atmosphere & GHG"
   ]
  },
  {
   "cell_type": "code",
   "execution_count": 2,
   "metadata": {
    "collapsed": true
   },
   "outputs": [],
   "source": [
    "import matplotlib.pyplot as plt\n",
    "import numpy as np\n",
    "\n",
    "from oscar import OSCAR\n",
    "\n",
    "%matplotlib inline"
   ]
  },
  {
   "cell_type": "markdown",
   "metadata": {},
   "source": [
    "<div class=\"alert alert-info\"><h1>Exercise 1: Atmospheric Lifetime of Well Mixed Greenhouse Gases</h1></div>"
   ]
  },
  {
   "cell_type": "markdown",
   "metadata": {},
   "source": [
    "1. Run a simulation until 2300 with no emissions past year 2010. Note: this is easily done by running with the default `OSCAR` configuration (which stops emissions in 2010)."
   ]
  },
  {
   "cell_type": "code",
   "execution_count": null,
   "metadata": {},
   "outputs": [],
   "source": []
  },
  {
   "cell_type": "markdown",
   "metadata": {},
   "source": [
    "<ol start=\"2\">\n",
    "    <li>Plot the time series of the atmospheric concentrations of CO2, CH4 and N2O.  Note the differences in units (refer to the [OSCAR documentation online](http://www.princeton.edu/~skclark/oscar/outputs.html#greenhouse-gas-concentrations)).</li>\n",
    "</ol>"
   ]
  },
  {
   "cell_type": "code",
   "execution_count": null,
   "metadata": {},
   "outputs": [],
   "source": []
  },
  {
   "cell_type": "markdown",
   "metadata": {},
   "source": [
    "<ol start=\"3\">\n",
    "    <li>Plot the evolution of the 3 compounds normalised to their maximal concentrations (i.e. concentration / max concentration). How do the three compounds evolve after emissions have stopped?</li>\n",
    "    <li>From this figure, estimate the lifetimes $\\tau$ of the three compounds. The lifetime of a greenhouse gas refers to the approximate amount of time it would take for the concentration to drop to 1/e times the concentration when emissions stopped (e = 2.71828, 1/e ~ 0.37). This occurs as a result of either being converted to another chemical compound or being taken out of the atmosphere via a sink.  Hint: set your x-axis bounds such that the left-most point is for the year emissions stopped (2010) and the right-most point is for the final year of the simulation (2300) (recall [`ax.set_xlim`](https://matplotlib.org/api/_as_gen/matplotlib.axes.Axes.set_xlim.html#matplotlib-axes-axes-set-xlim)).  Then overplot a horizontal line representing the fraction 1/e and find the year at which each curve intersects this horizontal line (use [`ax.axhline`](https://matplotlib.org/api/_as_gen/matplotlib.axes.Axes.axhline.html?highlight=axhline#matplotlib-axes-axes-axhline)).</li>\n",
    "</ol>"
   ]
  },
  {
   "cell_type": "code",
   "execution_count": null,
   "metadata": {},
   "outputs": [],
   "source": []
  }
 ],
 "metadata": {
  "kernelspec": {
   "display_name": "Python 2",
   "language": "python",
   "name": "python2"
  },
  "language_info": {
   "codemirror_mode": {
    "name": "ipython",
    "version": 2
   },
   "file_extension": ".py",
   "mimetype": "text/x-python",
   "name": "python",
   "nbconvert_exporter": "python",
   "pygments_lexer": "ipython2",
   "version": "2.7.13"
  }
 },
 "nbformat": 4,
 "nbformat_minor": 2
}
